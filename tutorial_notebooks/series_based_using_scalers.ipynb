{
 "cells": [
  {
   "cell_type": "markdown",
   "metadata": {},
   "source": [
    "# Using scalers for SeriesBasedCesnetDataset"
   ]
  },
  {
   "cell_type": "markdown",
   "metadata": {},
   "source": [
    "### Import"
   ]
  },
  {
   "cell_type": "code",
   "execution_count": 1,
   "metadata": {},
   "outputs": [],
   "source": [
    "import numpy as np\n",
    "import logging\n",
    "\n",
    "from cesnet_tszoo.utils.enums import AgreggationType, SourceType, ScalerType\n",
    "from cesnet_tszoo.datasets import CESNET_TimeSeries24\n",
    "from cesnet_tszoo.configs import SeriesBasedConfig # Series based dataset MUST use SeriesBasedConfig\n",
    "\n",
    "from cesnet_tszoo.utils.scaler import Scaler # For creating custom Scaler"
   ]
  },
  {
   "cell_type": "markdown",
   "metadata": {},
   "source": [
    "### Setting logger"
   ]
  },
  {
   "cell_type": "code",
   "execution_count": 2,
   "metadata": {},
   "outputs": [],
   "source": [
    "logging.basicConfig(\n",
    "    level=logging.INFO,\n",
    "    format=\"[%(asctime)s][%(name)s][%(levelname)s] - %(message)s\")"
   ]
  },
  {
   "cell_type": "markdown",
   "metadata": {},
   "source": [
    "### Preparing dataset"
   ]
  },
  {
   "cell_type": "code",
   "execution_count": 3,
   "metadata": {},
   "outputs": [
    {
     "name": "stderr",
     "output_type": "stream",
     "text": [
      "[2025-04-09 11:45:59,458][wrapper_dataset][INFO] - Dataset is series-based. Use cesnet_tszoo.configs.SeriesBasedConfig\n"
     ]
    },
    {
     "name": "stdout",
     "output_type": "stream",
     "text": [
      "\n",
      "Dataset details:\n",
      "\n",
      "    AgreggationType.AGG_10_MINUTES\n",
      "        Time indices: range(0, 40297)\n",
      "        Datetime: (datetime.datetime(2023, 10, 9, 0, 3, 49, tzinfo=datetime.timezone.utc), datetime.datetime(2024, 7, 14, 21, 50, 52, tzinfo=datetime.timezone.utc))\n",
      "\n",
      "    SourceType.IP_ADDRESSES_SAMPLE\n",
      "        Time series indices: [ 11  20 101 103 118 ... 2003134 2008461 2011839 2022235 2044888], Length=1000; use 'get_available_ts_indices' for full list\n",
      "        Features with default values: {'n_flows': 0, 'n_packets': 0, 'n_bytes': 0, 'n_dest_ip': 0, 'n_dest_asn': 0, 'n_dest_ports': 0, 'tcp_udp_ratio_packets': 0.5, 'tcp_udp_ratio_bytes': 0.5, 'dir_ratio_packets': 0.5, 'dir_ratio_bytes': 0.5, 'avg_duration': 0, 'avg_ttl': 0}\n",
      "        \n",
      "        Additional data: ['ids_relationship', 'weekends_and_holidays']\n",
      "        \n"
     ]
    }
   ],
   "source": [
    "series_based_dataset = CESNET_TimeSeries24.get_dataset(data_root=\"/some_directory/\", source_type=SourceType.IP_ADDRESSES_SAMPLE, aggregation=AgreggationType.AGG_10_MINUTES, is_series_based=True, display_details=True)"
   ]
  },
  {
   "cell_type": "markdown",
   "metadata": {},
   "source": [
    "### Scalers"
   ]
  },
  {
   "cell_type": "markdown",
   "metadata": {},
   "source": [
    "- Scalers are implemented as class.\n",
    "    - You can create your own or use built-in one.\n",
    "- Scaler is applied after `default_values` and fillers took care of missing values.\n",
    "- One scaler is used for all time series.\n",
    "- Scaler must implement `transform`.\n",
    "- Scaler must implement `partial_fit` (unless scaler is already fitted and `partial_fit_initialized_scalers` is False).\n",
    "- To use scaler, train set must be implemented (unless scaler is already fitted and `partial_fit_initialized_scalers` is False).\n",
    "- You can change used scaler later with `update_dataset_config_and_initialize` or `apply_scaler`."
   ]
  },
  {
   "cell_type": "markdown",
   "metadata": {},
   "source": [
    "#### Built-in"
   ]
  },
  {
   "cell_type": "code",
   "execution_count": 4,
   "metadata": {},
   "outputs": [
    {
     "data": {
      "text/plain": [
       "<ScalerType.MIN_MAX_SCALER: 'min_max_scaler'>"
      ]
     },
     "execution_count": 4,
     "metadata": {},
     "output_type": "execute_result"
    }
   ],
   "source": [
    "# Options\n",
    "\n",
    "## Supported\n",
    "ScalerType.STANDARD_SCALER\n",
    "ScalerType.L2_NORMALIZER\n",
    "ScalerType.LOG_SCALER\n",
    "ScalerType.MAX_ABS_SCALER\n",
    "ScalerType.MIN_MAX_SCALER"
   ]
  },
  {
   "cell_type": "code",
   "execution_count": 5,
   "metadata": {},
   "outputs": [
    {
     "name": "stderr",
     "output_type": "stream",
     "text": [
      "[2025-04-09 11:45:59,469][config][INFO] - Quick validation succeeded.\n",
      "[2025-04-09 11:45:59,502][config][INFO] - Finalization and validation completed successfully.\n",
      "[2025-04-09 11:45:59,505][cesnet_dataset][INFO] - Updating config on train/val/test/all and selected time period.\n",
      "100%|██████████| 500/500 [00:03<00:00, 139.26it/s]\n",
      "[2025-04-09 11:46:03,108][cesnet_dataset][INFO] - Dataset initialization complete. Configuration updated.\n",
      "[2025-04-09 11:46:03,109][cesnet_dataset][INFO] - Config initialized successfully.\n"
     ]
    },
    {
     "name": "stdout",
     "output_type": "stream",
     "text": [
      "\n",
      "Config Details:\n",
      "    Used for database: CESNET-TimeSeries24\n",
      "    Aggregation: AgreggationType.AGG_10_MINUTES\n",
      "    Source: SourceType.IP_ADDRESSES_SAMPLE\n",
      "\n",
      "    Time series\n",
      "        Train time series IDS: [182151  10158  65072  10196 338309 ... 175742 659213  11188  73422 483796], Length=60\n",
      "        Val time series IDS: None\n",
      "        Test time series IDS None\n",
      "        All time series IDS [182151  10158  65072  10196 338309 ... 175742 659213  11188  73422 483796], Length=60\n",
      "    Time periods\n",
      "        Time period: range(0, 20149)\n",
      "    Features\n",
      "        Taken features: ['n_flows', 'n_packets']\n",
      "        Default values: [0. 0.]\n",
      "        Time series ID included: True\n",
      "        Time included: True    \n",
      "        Time format: TimeFormat.ID_TIME\n",
      "    Fillers         \n",
      "        Filler type: None\n",
      "    Scalers\n",
      "        Scaler type: min_max_scaler\n",
      "        Are scalers premade: False\n",
      "        Are premade scalers partial_fitted: False\n",
      "    Batch sizes\n",
      "        Train batch size: 32\n",
      "        Val batch size: 64\n",
      "        Test batch size: 128\n",
      "        All batch size: 128\n",
      "    Default workers\n",
      "        Train worker count: 4\n",
      "        Val worker count: 3\n",
      "        Test worker count: 2\n",
      "        All worker count: 4\n",
      "        Init worker count: 4\n",
      "    Other\n",
      "        Nan threshold: 0.5\n",
      "        Random state: 1500\n",
      "        Train dataloader order DataloaderOrder.SEQUENTIAL\n",
      "                \n"
     ]
    }
   ],
   "source": [
    "config = SeriesBasedConfig(time_period=0.5, train_ts=500, features_to_take=[\"n_flows\", \"n_packets\"],\n",
    "                           scale_with=ScalerType.MIN_MAX_SCALER, nan_threshold=0.5, random_state=1500)\n",
    "series_based_dataset.set_dataset_config_and_initialize(config, display_config_details=True, workers=0)"
   ]
  },
  {
   "cell_type": "code",
   "execution_count": 6,
   "metadata": {},
   "outputs": [
    {
     "data": {
      "text/html": [
       "<div>\n",
       "<style scoped>\n",
       "    .dataframe tbody tr th:only-of-type {\n",
       "        vertical-align: middle;\n",
       "    }\n",
       "\n",
       "    .dataframe tbody tr th {\n",
       "        vertical-align: top;\n",
       "    }\n",
       "\n",
       "    .dataframe thead th {\n",
       "        text-align: right;\n",
       "    }\n",
       "</style>\n",
       "<table border=\"1\" class=\"dataframe\">\n",
       "  <thead>\n",
       "    <tr style=\"text-align: right;\">\n",
       "      <th></th>\n",
       "      <th>id_ip</th>\n",
       "      <th>id_time</th>\n",
       "      <th>n_flows</th>\n",
       "      <th>n_packets</th>\n",
       "    </tr>\n",
       "  </thead>\n",
       "  <tbody>\n",
       "    <tr>\n",
       "      <th>0</th>\n",
       "      <td>182151.0</td>\n",
       "      <td>0.0</td>\n",
       "      <td>0.000079</td>\n",
       "      <td>2.240487e-07</td>\n",
       "    </tr>\n",
       "    <tr>\n",
       "      <th>1</th>\n",
       "      <td>182151.0</td>\n",
       "      <td>1.0</td>\n",
       "      <td>0.000045</td>\n",
       "      <td>1.280278e-07</td>\n",
       "    </tr>\n",
       "    <tr>\n",
       "      <th>2</th>\n",
       "      <td>182151.0</td>\n",
       "      <td>2.0</td>\n",
       "      <td>0.000045</td>\n",
       "      <td>1.280278e-07</td>\n",
       "    </tr>\n",
       "    <tr>\n",
       "      <th>3</th>\n",
       "      <td>182151.0</td>\n",
       "      <td>3.0</td>\n",
       "      <td>0.000056</td>\n",
       "      <td>1.600348e-07</td>\n",
       "    </tr>\n",
       "    <tr>\n",
       "      <th>4</th>\n",
       "      <td>182151.0</td>\n",
       "      <td>4.0</td>\n",
       "      <td>0.000090</td>\n",
       "      <td>2.560557e-07</td>\n",
       "    </tr>\n",
       "    <tr>\n",
       "      <th>5</th>\n",
       "      <td>182151.0</td>\n",
       "      <td>5.0</td>\n",
       "      <td>0.000034</td>\n",
       "      <td>9.602087e-08</td>\n",
       "    </tr>\n",
       "    <tr>\n",
       "      <th>6</th>\n",
       "      <td>182151.0</td>\n",
       "      <td>6.0</td>\n",
       "      <td>0.000068</td>\n",
       "      <td>1.920417e-07</td>\n",
       "    </tr>\n",
       "    <tr>\n",
       "      <th>7</th>\n",
       "      <td>182151.0</td>\n",
       "      <td>7.0</td>\n",
       "      <td>0.000045</td>\n",
       "      <td>1.280278e-07</td>\n",
       "    </tr>\n",
       "    <tr>\n",
       "      <th>8</th>\n",
       "      <td>182151.0</td>\n",
       "      <td>8.0</td>\n",
       "      <td>0.000102</td>\n",
       "      <td>3.840835e-07</td>\n",
       "    </tr>\n",
       "    <tr>\n",
       "      <th>9</th>\n",
       "      <td>182151.0</td>\n",
       "      <td>9.0</td>\n",
       "      <td>0.000000</td>\n",
       "      <td>0.000000e+00</td>\n",
       "    </tr>\n",
       "  </tbody>\n",
       "</table>\n",
       "</div>"
      ],
      "text/plain": [
       "      id_ip  id_time   n_flows     n_packets\n",
       "0  182151.0      0.0  0.000079  2.240487e-07\n",
       "1  182151.0      1.0  0.000045  1.280278e-07\n",
       "2  182151.0      2.0  0.000045  1.280278e-07\n",
       "3  182151.0      3.0  0.000056  1.600348e-07\n",
       "4  182151.0      4.0  0.000090  2.560557e-07\n",
       "5  182151.0      5.0  0.000034  9.602087e-08\n",
       "6  182151.0      6.0  0.000068  1.920417e-07\n",
       "7  182151.0      7.0  0.000045  1.280278e-07\n",
       "8  182151.0      8.0  0.000102  3.840835e-07\n",
       "9  182151.0      9.0  0.000000  0.000000e+00"
      ]
     },
     "execution_count": 6,
     "metadata": {},
     "output_type": "execute_result"
    }
   ],
   "source": [
    "series_based_dataset.get_train_df(workers=0).head(10)"
   ]
  },
  {
   "cell_type": "code",
   "execution_count": 7,
   "metadata": {},
   "outputs": [
    {
     "data": {
      "text/plain": [
       "<cesnet_tszoo.utils.scaler.MinMaxScaler at 0x1e7920b0740>"
      ]
     },
     "execution_count": 7,
     "metadata": {},
     "output_type": "execute_result"
    }
   ],
   "source": [
    "series_based_dataset.get_scalers()"
   ]
  },
  {
   "cell_type": "markdown",
   "metadata": {},
   "source": [
    "Or later with:"
   ]
  },
  {
   "cell_type": "code",
   "execution_count": 8,
   "metadata": {},
   "outputs": [
    {
     "name": "stderr",
     "output_type": "stream",
     "text": [
      "[2025-04-09 11:46:03,302][cesnet_dataset][INFO] - Re-initialization is required.\n",
      "[2025-04-09 11:46:03,339][config][INFO] - Finalization and validation completed successfully.\n",
      "[2025-04-09 11:46:03,343][cesnet_dataset][INFO] - Updating config on train/val/test/all and selected time period.\n",
      "100%|██████████| 60/60 [00:00<00:00, 411.48it/s]\n",
      "[2025-04-09 11:46:03,490][cesnet_dataset][INFO] - Dataset initialization complete. Configuration updated.\n",
      "[2025-04-09 11:46:03,492][cesnet_dataset][INFO] - Config initialized successfully.\n",
      "[2025-04-09 11:46:03,492][cesnet_dataset][INFO] - Configuration has been changed successfuly.\n",
      "[2025-04-09 11:46:03,493][cesnet_dataset][INFO] - Re-initialization is required.\n",
      "[2025-04-09 11:46:03,522][config][INFO] - Finalization and validation completed successfully.\n",
      "[2025-04-09 11:46:03,525][cesnet_dataset][INFO] - Updating config on train/val/test/all and selected time period.\n",
      "100%|██████████| 60/60 [00:00<00:00, 424.24it/s]\n",
      "[2025-04-09 11:46:03,668][cesnet_dataset][INFO] - Dataset initialization complete. Configuration updated.\n",
      "[2025-04-09 11:46:03,668][cesnet_dataset][INFO] - Config initialized successfully.\n",
      "[2025-04-09 11:46:03,669][cesnet_dataset][INFO] - Configuration has been changed successfuly.\n"
     ]
    }
   ],
   "source": [
    "series_based_dataset.update_dataset_config_and_initialize(scale_with=ScalerType.MIN_MAX_SCALER, partial_fit_initialized_scalers=\"config\", workers=0)\n",
    "# Or\n",
    "series_based_dataset.apply_scaler(scale_with=ScalerType.MIN_MAX_SCALER, partial_fit_initialized_scalers=\"config\", workers=0)"
   ]
  },
  {
   "cell_type": "markdown",
   "metadata": {},
   "source": [
    "#### Custom"
   ]
  },
  {
   "cell_type": "markdown",
   "metadata": {},
   "source": [
    "You can create your own custom scaler. It is recommended to derive from Scaler base class."
   ]
  },
  {
   "cell_type": "code",
   "execution_count": 9,
   "metadata": {},
   "outputs": [],
   "source": [
    "class CustomScaler(Scaler):\n",
    "    def __init__(self):\n",
    "        super().__init__()\n",
    "        \n",
    "        self.max = None\n",
    "        self.min = None\n",
    "    \n",
    "    def transform(self, data):\n",
    "        return (data - self.min) / (self.max - self.min)\n",
    "    \n",
    "    def fit(self, data):\n",
    "        self.partial_fit(data)\n",
    "    \n",
    "    def partial_fit(self, data):\n",
    "        \n",
    "        if self.max is None and self.min is None:\n",
    "            self.max = np.max(data, axis=0)\n",
    "            self.min = np.min(data, axis=0)\n",
    "            return\n",
    "        \n",
    "        temp_max = np.max(data, axis=0)\n",
    "        temp = np.vstack((self.max, temp_max)) \n",
    "        self.max = np.max(temp, axis=0)\n",
    "        \n",
    "        temp_min = np.min(data, axis=0)\n",
    "        temp = np.vstack((self.min, temp_min)) \n",
    "        self.min = np.min(temp, axis=0)            "
   ]
  },
  {
   "cell_type": "code",
   "execution_count": 10,
   "metadata": {},
   "outputs": [
    {
     "name": "stderr",
     "output_type": "stream",
     "text": [
      "[2025-04-09 11:46:03,680][config][INFO] - Quick validation succeeded.\n",
      "[2025-04-09 11:46:03,711][config][INFO] - Finalization and validation completed successfully.\n",
      "[2025-04-09 11:46:03,713][cesnet_dataset][INFO] - Updating config on train/val/test/all and selected time period.\n",
      "100%|██████████| 500/500 [00:00<00:00, 1533.44it/s]\n",
      "[2025-04-09 11:46:04,042][cesnet_dataset][INFO] - Dataset initialization complete. Configuration updated.\n",
      "[2025-04-09 11:46:04,043][cesnet_dataset][INFO] - Config initialized successfully.\n"
     ]
    },
    {
     "name": "stdout",
     "output_type": "stream",
     "text": [
      "\n",
      "Config Details:\n",
      "    Used for database: CESNET-TimeSeries24\n",
      "    Aggregation: AgreggationType.AGG_10_MINUTES\n",
      "    Source: SourceType.IP_ADDRESSES_SAMPLE\n",
      "\n",
      "    Time series\n",
      "        Train time series IDS: [182151  10158  65072  10196 338309 ... 175742 659213  11188  73422 483796], Length=60\n",
      "        Val time series IDS: None\n",
      "        Test time series IDS None\n",
      "        All time series IDS [182151  10158  65072  10196 338309 ... 175742 659213  11188  73422 483796], Length=60\n",
      "    Time periods\n",
      "        Time period: range(0, 20149)\n",
      "    Features\n",
      "        Taken features: ['n_flows', 'n_packets']\n",
      "        Default values: [0. 0.]\n",
      "        Time series ID included: True\n",
      "        Time included: True    \n",
      "        Time format: TimeFormat.ID_TIME\n",
      "    Fillers         \n",
      "        Filler type: None\n",
      "    Scalers\n",
      "        Scaler type: CustomScaler (Custom)\n",
      "        Are scalers premade: False\n",
      "        Are premade scalers partial_fitted: False\n",
      "    Batch sizes\n",
      "        Train batch size: 32\n",
      "        Val batch size: 64\n",
      "        Test batch size: 128\n",
      "        All batch size: 128\n",
      "    Default workers\n",
      "        Train worker count: 4\n",
      "        Val worker count: 3\n",
      "        Test worker count: 2\n",
      "        All worker count: 4\n",
      "        Init worker count: 4\n",
      "    Other\n",
      "        Nan threshold: 0.5\n",
      "        Random state: 1500\n",
      "        Train dataloader order DataloaderOrder.SEQUENTIAL\n",
      "                \n"
     ]
    }
   ],
   "source": [
    "config = SeriesBasedConfig(time_period=0.5, train_ts=500, features_to_take=[\"n_flows\", \"n_packets\"],\n",
    "                           scale_with=CustomScaler, nan_threshold=0.5, random_state=1500)\n",
    "series_based_dataset.set_dataset_config_and_initialize(config, display_config_details=True, workers=0)"
   ]
  },
  {
   "cell_type": "code",
   "execution_count": 11,
   "metadata": {},
   "outputs": [
    {
     "data": {
      "text/html": [
       "<div>\n",
       "<style scoped>\n",
       "    .dataframe tbody tr th:only-of-type {\n",
       "        vertical-align: middle;\n",
       "    }\n",
       "\n",
       "    .dataframe tbody tr th {\n",
       "        vertical-align: top;\n",
       "    }\n",
       "\n",
       "    .dataframe thead th {\n",
       "        text-align: right;\n",
       "    }\n",
       "</style>\n",
       "<table border=\"1\" class=\"dataframe\">\n",
       "  <thead>\n",
       "    <tr style=\"text-align: right;\">\n",
       "      <th></th>\n",
       "      <th>id_ip</th>\n",
       "      <th>id_time</th>\n",
       "      <th>n_flows</th>\n",
       "      <th>n_packets</th>\n",
       "    </tr>\n",
       "  </thead>\n",
       "  <tbody>\n",
       "    <tr>\n",
       "      <th>0</th>\n",
       "      <td>182151.0</td>\n",
       "      <td>0.0</td>\n",
       "      <td>0.000079</td>\n",
       "      <td>2.240487e-07</td>\n",
       "    </tr>\n",
       "    <tr>\n",
       "      <th>1</th>\n",
       "      <td>182151.0</td>\n",
       "      <td>1.0</td>\n",
       "      <td>0.000045</td>\n",
       "      <td>1.280278e-07</td>\n",
       "    </tr>\n",
       "    <tr>\n",
       "      <th>2</th>\n",
       "      <td>182151.0</td>\n",
       "      <td>2.0</td>\n",
       "      <td>0.000045</td>\n",
       "      <td>1.280278e-07</td>\n",
       "    </tr>\n",
       "    <tr>\n",
       "      <th>3</th>\n",
       "      <td>182151.0</td>\n",
       "      <td>3.0</td>\n",
       "      <td>0.000056</td>\n",
       "      <td>1.600348e-07</td>\n",
       "    </tr>\n",
       "    <tr>\n",
       "      <th>4</th>\n",
       "      <td>182151.0</td>\n",
       "      <td>4.0</td>\n",
       "      <td>0.000090</td>\n",
       "      <td>2.560557e-07</td>\n",
       "    </tr>\n",
       "    <tr>\n",
       "      <th>5</th>\n",
       "      <td>182151.0</td>\n",
       "      <td>5.0</td>\n",
       "      <td>0.000034</td>\n",
       "      <td>9.602087e-08</td>\n",
       "    </tr>\n",
       "    <tr>\n",
       "      <th>6</th>\n",
       "      <td>182151.0</td>\n",
       "      <td>6.0</td>\n",
       "      <td>0.000068</td>\n",
       "      <td>1.920417e-07</td>\n",
       "    </tr>\n",
       "    <tr>\n",
       "      <th>7</th>\n",
       "      <td>182151.0</td>\n",
       "      <td>7.0</td>\n",
       "      <td>0.000045</td>\n",
       "      <td>1.280278e-07</td>\n",
       "    </tr>\n",
       "    <tr>\n",
       "      <th>8</th>\n",
       "      <td>182151.0</td>\n",
       "      <td>8.0</td>\n",
       "      <td>0.000102</td>\n",
       "      <td>3.840835e-07</td>\n",
       "    </tr>\n",
       "    <tr>\n",
       "      <th>9</th>\n",
       "      <td>182151.0</td>\n",
       "      <td>9.0</td>\n",
       "      <td>0.000000</td>\n",
       "      <td>0.000000e+00</td>\n",
       "    </tr>\n",
       "  </tbody>\n",
       "</table>\n",
       "</div>"
      ],
      "text/plain": [
       "      id_ip  id_time   n_flows     n_packets\n",
       "0  182151.0      0.0  0.000079  2.240487e-07\n",
       "1  182151.0      1.0  0.000045  1.280278e-07\n",
       "2  182151.0      2.0  0.000045  1.280278e-07\n",
       "3  182151.0      3.0  0.000056  1.600348e-07\n",
       "4  182151.0      4.0  0.000090  2.560557e-07\n",
       "5  182151.0      5.0  0.000034  9.602087e-08\n",
       "6  182151.0      6.0  0.000068  1.920417e-07\n",
       "7  182151.0      7.0  0.000045  1.280278e-07\n",
       "8  182151.0      8.0  0.000102  3.840835e-07\n",
       "9  182151.0      9.0  0.000000  0.000000e+00"
      ]
     },
     "execution_count": 11,
     "metadata": {},
     "output_type": "execute_result"
    }
   ],
   "source": [
    "series_based_dataset.get_train_df(workers=0).head(10)"
   ]
  },
  {
   "cell_type": "code",
   "execution_count": 12,
   "metadata": {},
   "outputs": [
    {
     "data": {
      "text/plain": [
       "<__main__.CustomScaler at 0x1e7940ecb00>"
      ]
     },
     "execution_count": 12,
     "metadata": {},
     "output_type": "execute_result"
    }
   ],
   "source": [
    "series_based_dataset.get_scalers()"
   ]
  },
  {
   "cell_type": "markdown",
   "metadata": {},
   "source": [
    "Or later with:"
   ]
  },
  {
   "cell_type": "code",
   "execution_count": 13,
   "metadata": {},
   "outputs": [
    {
     "name": "stderr",
     "output_type": "stream",
     "text": [
      "[2025-04-09 11:46:04,222][cesnet_dataset][INFO] - Re-initialization is required.\n",
      "[2025-04-09 11:46:04,251][config][INFO] - Finalization and validation completed successfully.\n",
      "[2025-04-09 11:46:04,255][cesnet_dataset][INFO] - Updating config on train/val/test/all and selected time period.\n",
      "100%|██████████| 60/60 [00:00<00:00, 482.69it/s]\n",
      "[2025-04-09 11:46:04,380][cesnet_dataset][INFO] - Dataset initialization complete. Configuration updated.\n",
      "[2025-04-09 11:46:04,381][cesnet_dataset][INFO] - Config initialized successfully.\n",
      "[2025-04-09 11:46:04,381][cesnet_dataset][INFO] - Configuration has been changed successfuly.\n",
      "[2025-04-09 11:46:04,382][cesnet_dataset][INFO] - Re-initialization is required.\n",
      "[2025-04-09 11:46:04,410][config][INFO] - Finalization and validation completed successfully.\n",
      "[2025-04-09 11:46:04,413][cesnet_dataset][INFO] - Updating config on train/val/test/all and selected time period.\n",
      "100%|██████████| 60/60 [00:00<00:00, 466.24it/s]\n",
      "[2025-04-09 11:46:04,543][cesnet_dataset][INFO] - Dataset initialization complete. Configuration updated.\n",
      "[2025-04-09 11:46:04,544][cesnet_dataset][INFO] - Config initialized successfully.\n",
      "[2025-04-09 11:46:04,544][cesnet_dataset][INFO] - Configuration has been changed successfuly.\n"
     ]
    }
   ],
   "source": [
    "series_based_dataset.update_dataset_config_and_initialize(scale_with=CustomScaler, partial_fit_initialized_scalers=\"config\", workers=0)\n",
    "# Or\n",
    "series_based_dataset.apply_scaler(scale_with=CustomScaler, partial_fit_initialized_scalers=\"config\", workers=0)"
   ]
  },
  {
   "cell_type": "markdown",
   "metadata": {},
   "source": [
    "#### Using already fitted scaler"
   ]
  },
  {
   "cell_type": "markdown",
   "metadata": {},
   "source": [
    "- When `partial_fit_initialized_scaler` is False (default value), scaler has no requirement for `partial_fit` nor for train set."
   ]
  },
  {
   "cell_type": "code",
   "execution_count": 14,
   "metadata": {},
   "outputs": [
    {
     "name": "stderr",
     "output_type": "stream",
     "text": [
      "[2025-04-09 11:46:04,549][config][INFO] - Quick validation succeeded.\n",
      "[2025-04-09 11:46:04,579][config][INFO] - Finalization and validation completed successfully.\n",
      "[2025-04-09 11:46:04,582][cesnet_dataset][INFO] - Updating config on train/val/test/all and selected time period.\n",
      "100%|██████████| 500/500 [00:00<00:00, 1668.09it/s]\n",
      "[2025-04-09 11:46:04,884][cesnet_dataset][INFO] - Dataset initialization complete. Configuration updated.\n",
      "[2025-04-09 11:46:04,884][cesnet_dataset][INFO] - Config initialized successfully.\n"
     ]
    }
   ],
   "source": [
    "config = SeriesBasedConfig(time_period=0.5, train_ts=500, features_to_take=[\"n_flows\", \"n_packets\"],\n",
    "                           scale_with=CustomScaler, nan_threshold=0.5, random_state=1500)\n",
    "series_based_dataset.set_dataset_config_and_initialize(config, display_config_details=False, workers=0)\n",
    "\n",
    "fitted_scaler = series_based_dataset.get_scalers()"
   ]
  },
  {
   "cell_type": "code",
   "execution_count": 15,
   "metadata": {},
   "outputs": [
    {
     "name": "stderr",
     "output_type": "stream",
     "text": [
      "[2025-04-09 11:46:04,889][config][INFO] - Quick validation succeeded.\n",
      "[2025-04-09 11:46:04,920][config][INFO] - Finalization and validation completed successfully.\n",
      "[2025-04-09 11:46:04,924][cesnet_dataset][INFO] - Updating config on train/val/test/all and selected time period.\n",
      "100%|██████████| 1000/1000 [00:02<00:00, 458.32it/s]\n",
      "[2025-04-09 11:46:07,108][cesnet_dataset][INFO] - Dataset initialization complete. Configuration updated.\n",
      "[2025-04-09 11:46:07,108][cesnet_dataset][INFO] - Config initialized successfully.\n"
     ]
    },
    {
     "name": "stdout",
     "output_type": "stream",
     "text": [
      "\n",
      "Config Details:\n",
      "    Used for database: CESNET-TimeSeries24\n",
      "    Aggregation: AgreggationType.AGG_10_MINUTES\n",
      "    Source: SourceType.IP_ADDRESSES_SAMPLE\n",
      "\n",
      "    Time series\n",
      "        Train time series IDS: [  4380  35210 322201    190 307400 ...  29194 617662 677144 211973 612051], Length=65\n",
      "        Val time series IDS: [121596 599190  10703 338309 151737 ... 252575 259860     20     11 191587], Length=70\n",
      "        Test time series IDS None\n",
      "        All time series IDS [  4380  35210 322201    190 307400 ... 252575 259860     20     11 191587], Length=135\n",
      "    Time periods\n",
      "        Time period: range(0, 20149)\n",
      "    Features\n",
      "        Taken features: ['n_flows', 'n_packets']\n",
      "        Default values: [0. 0.]\n",
      "        Time series ID included: True\n",
      "        Time included: True    \n",
      "        Time format: TimeFormat.ID_TIME\n",
      "    Fillers         \n",
      "        Filler type: None\n",
      "    Scalers\n",
      "        Scaler type: CustomScaler (Custom)\n",
      "        Are scalers premade: True\n",
      "        Are premade scalers partial_fitted: False\n",
      "    Batch sizes\n",
      "        Train batch size: 32\n",
      "        Val batch size: 64\n",
      "        Test batch size: 128\n",
      "        All batch size: 128\n",
      "    Default workers\n",
      "        Train worker count: 4\n",
      "        Val worker count: 3\n",
      "        Test worker count: 2\n",
      "        All worker count: 4\n",
      "        Init worker count: 4\n",
      "    Other\n",
      "        Nan threshold: 0.5\n",
      "        Random state: 999\n",
      "        Train dataloader order DataloaderOrder.SEQUENTIAL\n",
      "                \n"
     ]
    }
   ],
   "source": [
    "config = SeriesBasedConfig(time_period=0.5, train_ts=500, val_ts=500, features_to_take=[\"n_flows\", \"n_packets\"],\n",
    "                           scale_with=fitted_scaler, nan_threshold=0.5, random_state=999)\n",
    "series_based_dataset.set_dataset_config_and_initialize(config, display_config_details=True, workers=0)"
   ]
  },
  {
   "cell_type": "code",
   "execution_count": 16,
   "metadata": {},
   "outputs": [
    {
     "data": {
      "text/html": [
       "<div>\n",
       "<style scoped>\n",
       "    .dataframe tbody tr th:only-of-type {\n",
       "        vertical-align: middle;\n",
       "    }\n",
       "\n",
       "    .dataframe tbody tr th {\n",
       "        vertical-align: top;\n",
       "    }\n",
       "\n",
       "    .dataframe thead th {\n",
       "        text-align: right;\n",
       "    }\n",
       "</style>\n",
       "<table border=\"1\" class=\"dataframe\">\n",
       "  <thead>\n",
       "    <tr style=\"text-align: right;\">\n",
       "      <th></th>\n",
       "      <th>id_ip</th>\n",
       "      <th>id_time</th>\n",
       "      <th>n_flows</th>\n",
       "      <th>n_packets</th>\n",
       "    </tr>\n",
       "  </thead>\n",
       "  <tbody>\n",
       "    <tr>\n",
       "      <th>0</th>\n",
       "      <td>121596.0</td>\n",
       "      <td>0.0</td>\n",
       "      <td>0.000237</td>\n",
       "      <td>0.000006</td>\n",
       "    </tr>\n",
       "    <tr>\n",
       "      <th>1</th>\n",
       "      <td>121596.0</td>\n",
       "      <td>1.0</td>\n",
       "      <td>0.000361</td>\n",
       "      <td>0.000009</td>\n",
       "    </tr>\n",
       "    <tr>\n",
       "      <th>2</th>\n",
       "      <td>121596.0</td>\n",
       "      <td>2.0</td>\n",
       "      <td>0.000361</td>\n",
       "      <td>0.000010</td>\n",
       "    </tr>\n",
       "    <tr>\n",
       "      <th>3</th>\n",
       "      <td>121596.0</td>\n",
       "      <td>3.0</td>\n",
       "      <td>0.000282</td>\n",
       "      <td>0.000008</td>\n",
       "    </tr>\n",
       "    <tr>\n",
       "      <th>4</th>\n",
       "      <td>121596.0</td>\n",
       "      <td>4.0</td>\n",
       "      <td>0.000316</td>\n",
       "      <td>0.000010</td>\n",
       "    </tr>\n",
       "    <tr>\n",
       "      <th>5</th>\n",
       "      <td>121596.0</td>\n",
       "      <td>5.0</td>\n",
       "      <td>0.000395</td>\n",
       "      <td>0.000009</td>\n",
       "    </tr>\n",
       "    <tr>\n",
       "      <th>6</th>\n",
       "      <td>121596.0</td>\n",
       "      <td>6.0</td>\n",
       "      <td>0.000361</td>\n",
       "      <td>0.000010</td>\n",
       "    </tr>\n",
       "    <tr>\n",
       "      <th>7</th>\n",
       "      <td>121596.0</td>\n",
       "      <td>7.0</td>\n",
       "      <td>0.000361</td>\n",
       "      <td>0.000008</td>\n",
       "    </tr>\n",
       "    <tr>\n",
       "      <th>8</th>\n",
       "      <td>121596.0</td>\n",
       "      <td>8.0</td>\n",
       "      <td>0.000350</td>\n",
       "      <td>0.000010</td>\n",
       "    </tr>\n",
       "    <tr>\n",
       "      <th>9</th>\n",
       "      <td>121596.0</td>\n",
       "      <td>9.0</td>\n",
       "      <td>0.000248</td>\n",
       "      <td>0.000005</td>\n",
       "    </tr>\n",
       "  </tbody>\n",
       "</table>\n",
       "</div>"
      ],
      "text/plain": [
       "      id_ip  id_time   n_flows  n_packets\n",
       "0  121596.0      0.0  0.000237   0.000006\n",
       "1  121596.0      1.0  0.000361   0.000009\n",
       "2  121596.0      2.0  0.000361   0.000010\n",
       "3  121596.0      3.0  0.000282   0.000008\n",
       "4  121596.0      4.0  0.000316   0.000010\n",
       "5  121596.0      5.0  0.000395   0.000009\n",
       "6  121596.0      6.0  0.000361   0.000010\n",
       "7  121596.0      7.0  0.000361   0.000008\n",
       "8  121596.0      8.0  0.000350   0.000010\n",
       "9  121596.0      9.0  0.000248   0.000005"
      ]
     },
     "execution_count": 16,
     "metadata": {},
     "output_type": "execute_result"
    }
   ],
   "source": [
    "series_based_dataset.get_val_df(workers=0).head(10)"
   ]
  },
  {
   "cell_type": "markdown",
   "metadata": {},
   "source": [
    "Below you can see how scaler works even without train set."
   ]
  },
  {
   "cell_type": "code",
   "execution_count": 17,
   "metadata": {},
   "outputs": [
    {
     "name": "stderr",
     "output_type": "stream",
     "text": [
      "[2025-04-09 11:46:07,316][config][INFO] - Quick validation succeeded.\n",
      "[2025-04-09 11:46:07,348][config][INFO] - Finalization and validation completed successfully.\n",
      "[2025-04-09 11:46:07,351][cesnet_dataset][INFO] - Updating config on train/val/test/all and selected time period.\n",
      "100%|██████████| 500/500 [00:00<00:00, 1687.94it/s]\n",
      "[2025-04-09 11:46:07,649][cesnet_dataset][INFO] - Dataset initialization complete. Configuration updated.\n",
      "[2025-04-09 11:46:07,649][cesnet_dataset][INFO] - Config initialized successfully.\n"
     ]
    },
    {
     "name": "stdout",
     "output_type": "stream",
     "text": [
      "\n",
      "Config Details:\n",
      "    Used for database: CESNET-TimeSeries24\n",
      "    Aggregation: AgreggationType.AGG_10_MINUTES\n",
      "    Source: SourceType.IP_ADDRESSES_SAMPLE\n",
      "\n",
      "    Time series\n",
      "        Train time series IDS: None\n",
      "        Val time series IDS: [  4380  35210 322201    190 307400 ...  29194 617662 677144 211973 612051], Length=65\n",
      "        Test time series IDS None\n",
      "        All time series IDS [  4380  35210 322201    190 307400 ...  29194 617662 677144 211973 612051], Length=65\n",
      "    Time periods\n",
      "        Time period: range(0, 20149)\n",
      "    Features\n",
      "        Taken features: ['n_flows', 'n_packets']\n",
      "        Default values: [0. 0.]\n",
      "        Time series ID included: True\n",
      "        Time included: True    \n",
      "        Time format: TimeFormat.ID_TIME\n",
      "    Fillers         \n",
      "        Filler type: None\n",
      "    Scalers\n",
      "        Scaler type: CustomScaler (Custom)\n",
      "        Are scalers premade: True\n",
      "        Are premade scalers partial_fitted: False\n",
      "    Batch sizes\n",
      "        Train batch size: 32\n",
      "        Val batch size: 64\n",
      "        Test batch size: 128\n",
      "        All batch size: 128\n",
      "    Default workers\n",
      "        Train worker count: 4\n",
      "        Val worker count: 3\n",
      "        Test worker count: 2\n",
      "        All worker count: 4\n",
      "        Init worker count: 4\n",
      "    Other\n",
      "        Nan threshold: 0.5\n",
      "        Random state: 999\n",
      "        Train dataloader order DataloaderOrder.SEQUENTIAL\n",
      "                \n"
     ]
    }
   ],
   "source": [
    "config = SeriesBasedConfig(time_period=0.5, val_ts=500, features_to_take=[\"n_flows\", \"n_packets\"],\n",
    "                           scale_with=fitted_scaler, nan_threshold=0.5, random_state=999)\n",
    "series_based_dataset.set_dataset_config_and_initialize(config, display_config_details=True, workers=0)"
   ]
  },
  {
   "cell_type": "code",
   "execution_count": 18,
   "metadata": {},
   "outputs": [
    {
     "data": {
      "text/html": [
       "<div>\n",
       "<style scoped>\n",
       "    .dataframe tbody tr th:only-of-type {\n",
       "        vertical-align: middle;\n",
       "    }\n",
       "\n",
       "    .dataframe tbody tr th {\n",
       "        vertical-align: top;\n",
       "    }\n",
       "\n",
       "    .dataframe thead th {\n",
       "        text-align: right;\n",
       "    }\n",
       "</style>\n",
       "<table border=\"1\" class=\"dataframe\">\n",
       "  <thead>\n",
       "    <tr style=\"text-align: right;\">\n",
       "      <th></th>\n",
       "      <th>id_ip</th>\n",
       "      <th>id_time</th>\n",
       "      <th>n_flows</th>\n",
       "      <th>n_packets</th>\n",
       "    </tr>\n",
       "  </thead>\n",
       "  <tbody>\n",
       "    <tr>\n",
       "      <th>0</th>\n",
       "      <td>4380.0</td>\n",
       "      <td>0.0</td>\n",
       "      <td>0.001253</td>\n",
       "      <td>0.000005</td>\n",
       "    </tr>\n",
       "    <tr>\n",
       "      <th>1</th>\n",
       "      <td>4380.0</td>\n",
       "      <td>1.0</td>\n",
       "      <td>0.001162</td>\n",
       "      <td>0.000004</td>\n",
       "    </tr>\n",
       "    <tr>\n",
       "      <th>2</th>\n",
       "      <td>4380.0</td>\n",
       "      <td>2.0</td>\n",
       "      <td>0.000756</td>\n",
       "      <td>0.000003</td>\n",
       "    </tr>\n",
       "    <tr>\n",
       "      <th>3</th>\n",
       "      <td>4380.0</td>\n",
       "      <td>3.0</td>\n",
       "      <td>0.000959</td>\n",
       "      <td>0.000004</td>\n",
       "    </tr>\n",
       "    <tr>\n",
       "      <th>4</th>\n",
       "      <td>4380.0</td>\n",
       "      <td>4.0</td>\n",
       "      <td>0.001219</td>\n",
       "      <td>0.000005</td>\n",
       "    </tr>\n",
       "    <tr>\n",
       "      <th>5</th>\n",
       "      <td>4380.0</td>\n",
       "      <td>5.0</td>\n",
       "      <td>0.001275</td>\n",
       "      <td>0.000005</td>\n",
       "    </tr>\n",
       "    <tr>\n",
       "      <th>6</th>\n",
       "      <td>4380.0</td>\n",
       "      <td>6.0</td>\n",
       "      <td>0.001456</td>\n",
       "      <td>0.000006</td>\n",
       "    </tr>\n",
       "    <tr>\n",
       "      <th>7</th>\n",
       "      <td>4380.0</td>\n",
       "      <td>7.0</td>\n",
       "      <td>0.001196</td>\n",
       "      <td>0.000004</td>\n",
       "    </tr>\n",
       "    <tr>\n",
       "      <th>8</th>\n",
       "      <td>4380.0</td>\n",
       "      <td>8.0</td>\n",
       "      <td>0.001433</td>\n",
       "      <td>0.000006</td>\n",
       "    </tr>\n",
       "    <tr>\n",
       "      <th>9</th>\n",
       "      <td>4380.0</td>\n",
       "      <td>9.0</td>\n",
       "      <td>0.001072</td>\n",
       "      <td>0.000004</td>\n",
       "    </tr>\n",
       "  </tbody>\n",
       "</table>\n",
       "</div>"
      ],
      "text/plain": [
       "    id_ip  id_time   n_flows  n_packets\n",
       "0  4380.0      0.0  0.001253   0.000005\n",
       "1  4380.0      1.0  0.001162   0.000004\n",
       "2  4380.0      2.0  0.000756   0.000003\n",
       "3  4380.0      3.0  0.000959   0.000004\n",
       "4  4380.0      4.0  0.001219   0.000005\n",
       "5  4380.0      5.0  0.001275   0.000005\n",
       "6  4380.0      6.0  0.001456   0.000006\n",
       "7  4380.0      7.0  0.001196   0.000004\n",
       "8  4380.0      8.0  0.001433   0.000006\n",
       "9  4380.0      9.0  0.001072   0.000004"
      ]
     },
     "execution_count": 18,
     "metadata": {},
     "output_type": "execute_result"
    }
   ],
   "source": [
    "series_based_dataset.get_val_df(workers=0).head(10)"
   ]
  },
  {
   "cell_type": "markdown",
   "metadata": {},
   "source": [
    "##### Partial fitting on train set"
   ]
  },
  {
   "cell_type": "markdown",
   "metadata": {},
   "source": [
    "Makes already fitted scaler to be fitted on new train set too. Must implement `partial_fit`."
   ]
  },
  {
   "cell_type": "code",
   "execution_count": 19,
   "metadata": {},
   "outputs": [
    {
     "name": "stderr",
     "output_type": "stream",
     "text": [
      "[2025-04-09 11:46:07,837][config][INFO] - Quick validation succeeded.\n",
      "[2025-04-09 11:46:07,870][config][INFO] - Finalization and validation completed successfully.\n",
      "[2025-04-09 11:46:07,873][cesnet_dataset][INFO] - Updating config on train/val/test/all and selected time period.\n",
      "100%|██████████| 1000/1000 [00:00<00:00, 1621.15it/s]\n",
      "[2025-04-09 11:46:08,492][cesnet_dataset][INFO] - Dataset initialization complete. Configuration updated.\n",
      "[2025-04-09 11:46:08,493][cesnet_dataset][INFO] - Config initialized successfully.\n"
     ]
    },
    {
     "name": "stdout",
     "output_type": "stream",
     "text": [
      "\n",
      "Config Details:\n",
      "    Used for database: CESNET-TimeSeries24\n",
      "    Aggregation: AgreggationType.AGG_10_MINUTES\n",
      "    Source: SourceType.IP_ADDRESSES_SAMPLE\n",
      "\n",
      "    Time series\n",
      "        Train time series IDS: [  4380  35210 322201    190 307400 ...  29194 617662 677144 211973 612051], Length=65\n",
      "        Val time series IDS: [ 10158 171452 296195 252575 479584 ...    1774  210412  405441 1604957  175742], Length=70\n",
      "        Test time series IDS None\n",
      "        All time series IDS [  4380  35210 322201    190 307400 ...    1774  210412  405441 1604957  175742], Length=135\n",
      "    Time periods\n",
      "        Time period: range(0, 20149)\n",
      "    Features\n",
      "        Taken features: ['n_flows', 'n_packets']\n",
      "        Default values: [0. 0.]\n",
      "        Time series ID included: True\n",
      "        Time included: True    \n",
      "        Time format: TimeFormat.ID_TIME\n",
      "    Fillers         \n",
      "        Filler type: None\n",
      "    Scalers\n",
      "        Scaler type: CustomScaler (Custom)\n",
      "        Are scalers premade: True\n",
      "        Are premade scalers partial_fitted: True\n",
      "    Batch sizes\n",
      "        Train batch size: 32\n",
      "        Val batch size: 64\n",
      "        Test batch size: 128\n",
      "        All batch size: 128\n",
      "    Default workers\n",
      "        Train worker count: 4\n",
      "        Val worker count: 3\n",
      "        Test worker count: 2\n",
      "        All worker count: 4\n",
      "        Init worker count: 4\n",
      "    Other\n",
      "        Nan threshold: 0.5\n",
      "        Random state: 999\n",
      "        Train dataloader order DataloaderOrder.SEQUENTIAL\n",
      "                \n"
     ]
    }
   ],
   "source": [
    "config = SeriesBasedConfig(time_period=0.5, train_ts=500, val_ts=500, features_to_take=[\"n_flows\", \"n_packets\"],\n",
    "                           scale_with=fitted_scaler, partial_fit_initialized_scaler=True, nan_threshold=0.5, random_state=999)\n",
    "series_based_dataset.set_dataset_config_and_initialize(config, display_config_details=True, workers=0)"
   ]
  },
  {
   "cell_type": "code",
   "execution_count": 20,
   "metadata": {},
   "outputs": [
    {
     "data": {
      "text/html": [
       "<div>\n",
       "<style scoped>\n",
       "    .dataframe tbody tr th:only-of-type {\n",
       "        vertical-align: middle;\n",
       "    }\n",
       "\n",
       "    .dataframe tbody tr th {\n",
       "        vertical-align: top;\n",
       "    }\n",
       "\n",
       "    .dataframe thead th {\n",
       "        text-align: right;\n",
       "    }\n",
       "</style>\n",
       "<table border=\"1\" class=\"dataframe\">\n",
       "  <thead>\n",
       "    <tr style=\"text-align: right;\">\n",
       "      <th></th>\n",
       "      <th>id_ip</th>\n",
       "      <th>id_time</th>\n",
       "      <th>n_flows</th>\n",
       "      <th>n_packets</th>\n",
       "    </tr>\n",
       "  </thead>\n",
       "  <tbody>\n",
       "    <tr>\n",
       "      <th>0</th>\n",
       "      <td>10158.0</td>\n",
       "      <td>0.0</td>\n",
       "      <td>0.001162</td>\n",
       "      <td>0.000033</td>\n",
       "    </tr>\n",
       "    <tr>\n",
       "      <th>1</th>\n",
       "      <td>10158.0</td>\n",
       "      <td>1.0</td>\n",
       "      <td>0.001366</td>\n",
       "      <td>0.000041</td>\n",
       "    </tr>\n",
       "    <tr>\n",
       "      <th>2</th>\n",
       "      <td>10158.0</td>\n",
       "      <td>2.0</td>\n",
       "      <td>0.000643</td>\n",
       "      <td>0.000015</td>\n",
       "    </tr>\n",
       "    <tr>\n",
       "      <th>3</th>\n",
       "      <td>10158.0</td>\n",
       "      <td>3.0</td>\n",
       "      <td>0.000801</td>\n",
       "      <td>0.000025</td>\n",
       "    </tr>\n",
       "    <tr>\n",
       "      <th>4</th>\n",
       "      <td>10158.0</td>\n",
       "      <td>4.0</td>\n",
       "      <td>0.000903</td>\n",
       "      <td>0.000021</td>\n",
       "    </tr>\n",
       "    <tr>\n",
       "      <th>5</th>\n",
       "      <td>10158.0</td>\n",
       "      <td>5.0</td>\n",
       "      <td>0.000790</td>\n",
       "      <td>0.000024</td>\n",
       "    </tr>\n",
       "    <tr>\n",
       "      <th>6</th>\n",
       "      <td>10158.0</td>\n",
       "      <td>6.0</td>\n",
       "      <td>0.001275</td>\n",
       "      <td>0.000041</td>\n",
       "    </tr>\n",
       "    <tr>\n",
       "      <th>7</th>\n",
       "      <td>10158.0</td>\n",
       "      <td>7.0</td>\n",
       "      <td>0.000880</td>\n",
       "      <td>0.000022</td>\n",
       "    </tr>\n",
       "    <tr>\n",
       "      <th>8</th>\n",
       "      <td>10158.0</td>\n",
       "      <td>8.0</td>\n",
       "      <td>0.000959</td>\n",
       "      <td>0.000030</td>\n",
       "    </tr>\n",
       "    <tr>\n",
       "      <th>9</th>\n",
       "      <td>10158.0</td>\n",
       "      <td>9.0</td>\n",
       "      <td>0.001185</td>\n",
       "      <td>0.000029</td>\n",
       "    </tr>\n",
       "  </tbody>\n",
       "</table>\n",
       "</div>"
      ],
      "text/plain": [
       "     id_ip  id_time   n_flows  n_packets\n",
       "0  10158.0      0.0  0.001162   0.000033\n",
       "1  10158.0      1.0  0.001366   0.000041\n",
       "2  10158.0      2.0  0.000643   0.000015\n",
       "3  10158.0      3.0  0.000801   0.000025\n",
       "4  10158.0      4.0  0.000903   0.000021\n",
       "5  10158.0      5.0  0.000790   0.000024\n",
       "6  10158.0      6.0  0.001275   0.000041\n",
       "7  10158.0      7.0  0.000880   0.000022\n",
       "8  10158.0      8.0  0.000959   0.000030\n",
       "9  10158.0      9.0  0.001185   0.000029"
      ]
     },
     "execution_count": 20,
     "metadata": {},
     "output_type": "execute_result"
    }
   ],
   "source": [
    "series_based_dataset.get_val_df(workers=0).head(10)"
   ]
  }
 ],
 "metadata": {
  "kernelspec": {
   "display_name": ".venv",
   "language": "python",
   "name": "python3"
  },
  "language_info": {
   "codemirror_mode": {
    "name": "ipython",
    "version": 3
   },
   "file_extension": ".py",
   "mimetype": "text/x-python",
   "name": "python",
   "nbconvert_exporter": "python",
   "pygments_lexer": "ipython3",
   "version": "3.12.3"
  }
 },
 "nbformat": 4,
 "nbformat_minor": 2
}
