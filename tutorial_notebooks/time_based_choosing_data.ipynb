{
 "cells": [
  {
   "cell_type": "markdown",
   "metadata": {},
   "source": [
    "# Choosing data for TimeBasedCesnetDataset"
   ]
  },
  {
   "cell_type": "markdown",
   "metadata": {},
   "source": [
    "### Import"
   ]
  },
  {
   "cell_type": "code",
   "execution_count": 1,
   "metadata": {},
   "outputs": [],
   "source": [
    "import logging\n",
    "from datetime import datetime\n",
    "\n",
    "from cesnet_tszoo.utils.enums import AgreggationType, SourceType, TimeFormat\n",
    "from cesnet_tszoo.datasets import CESNET_TimeSeries24\n",
    "from cesnet_tszoo.configs import TimeBasedConfig # Time based dataset MUST use TimeBasedConfig"
   ]
  },
  {
   "cell_type": "markdown",
   "metadata": {},
   "source": [
    "### Setting logger"
   ]
  },
  {
   "cell_type": "code",
   "execution_count": 2,
   "metadata": {},
   "outputs": [],
   "source": [
    "logging.basicConfig(\n",
    "    level=logging.INFO,\n",
    "    format=\"[%(asctime)s][%(name)s][%(levelname)s] - %(message)s\")"
   ]
  },
  {
   "cell_type": "markdown",
   "metadata": {},
   "source": [
    "### Preparing dataset"
   ]
  },
  {
   "cell_type": "code",
   "execution_count": 3,
   "metadata": {},
   "outputs": [
    {
     "name": "stderr",
     "output_type": "stream",
     "text": [
      "[2025-04-09 11:46:23,935][wrapper_dataset][INFO] - Dataset is time-based. Use cesnet_tszoo.configs.TimeBasedConfig\n"
     ]
    },
    {
     "name": "stdout",
     "output_type": "stream",
     "text": [
      "\n",
      "Dataset details:\n",
      "\n",
      "    AgreggationType.AGG_1_HOUR\n",
      "        Time indices: range(0, 6717)\n",
      "        Datetime: (datetime.datetime(2023, 10, 9, 0, 0, tzinfo=datetime.timezone.utc), datetime.datetime(2024, 7, 14, 21, 0, tzinfo=datetime.timezone.utc))\n",
      "\n",
      "    SourceType.INSTITUTION_SUBNETS\n",
      "        Time series indices: [0 1 2 3 4 ... 543 544 545 546 547], Length=548; use 'get_available_ts_indices' for full list\n",
      "        Features with default values: {'n_flows': 0, 'n_packets': 0, 'n_bytes': 0, 'tcp_udp_ratio_packets': 0.5, 'tcp_udp_ratio_bytes': 0.5, 'dir_ratio_packets': 0.5, 'dir_ratio_bytes': 0.5, 'avg_duration': 0, 'avg_ttl': 0, 'sum_n_dest_asn': 0, 'avg_n_dest_asn': 0, 'std_n_dest_asn': 0, 'sum_n_dest_ports': 0, 'avg_n_dest_ports': 0, 'std_n_dest_ports': 0, 'sum_n_dest_ip': 0, 'avg_n_dest_ip': 0, 'std_n_dest_ip': 0}\n",
      "        \n",
      "        Additional data: ['ids_relationship', 'weekends_and_holidays']\n",
      "        \n"
     ]
    }
   ],
   "source": [
    "time_based_dataset = CESNET_TimeSeries24.get_dataset(data_root=\"/some_directory/\", source_type=SourceType.INSTITUTION_SUBNETS, aggregation=AgreggationType.AGG_1_HOUR, is_series_based=False, display_details=True)"
   ]
  },
  {
   "cell_type": "markdown",
   "metadata": {},
   "source": [
    "### Selecting which time series to load"
   ]
  },
  {
   "cell_type": "markdown",
   "metadata": {},
   "source": [
    "- Sets time series that will be used for train/val/test/all sets"
   ]
  },
  {
   "cell_type": "markdown",
   "metadata": {},
   "source": [
    "#### Setting ts_ids with count of time series"
   ]
  },
  {
   "cell_type": "markdown",
   "metadata": {},
   "source": [
    "- Sets time series used in sets with count.\n",
    "- When `test_ts_ids` is used, this will contain only values that are not in `test_ts_ids`.\n",
    "- Count must be greater than zero.\n",
    "- Total sum of time series in `ts_ids` must be smaller than number of time series in dataset without time series used in `test_ts_ids`.\n",
    "- Is affected by `random_state`.\n",
    "    - When `random_state` is set, `ts_ids` (and `test_ts_ids`) will contain same time series."
   ]
  },
  {
   "cell_type": "code",
   "execution_count": 4,
   "metadata": {},
   "outputs": [
    {
     "name": "stderr",
     "output_type": "stream",
     "text": [
      "[2025-04-09 11:46:23,940][config][INFO] - Quick validation succeeded.\n",
      "[2025-04-09 11:46:23,947][config][INFO] - Using all times for all_time_period because train_time_period, val_time_period, and test_time_period are all set to None.\n",
      "[2025-04-09 11:46:23,947][config][INFO] - Finalization and validation completed successfully.\n",
      "[2025-04-09 11:46:23,952][cesnet_dataset][INFO] - Updating config on train/val/test/all and selected time series.\n",
      "100%|██████████| 54/54 [00:00<00:00, 569.43it/s]\n",
      "[2025-04-09 11:46:24,053][cesnet_dataset][INFO] - Config initialized successfully.\n"
     ]
    },
    {
     "name": "stdout",
     "output_type": "stream",
     "text": [
      "\n",
      "Config Details\n",
      "    Used for database: CESNET-TimeSeries24\n",
      "    Aggregation: AgreggationType.AGG_1_HOUR\n",
      "    Source: SourceType.INSTITUTION_SUBNETS\n",
      "\n",
      "    Time series\n",
      "        Time series IDS: [ 54 226 135 160 236 ...   7 118 322 275  86], Length=54\n",
      "        Test time series IDS: None\n",
      "    Time periods\n",
      "        Train time periods: None\n",
      "        Val time periods: None\n",
      "        Test time periods: None\n",
      "        All time periods: range(0, 6718)\n",
      "    Features\n",
      "        Taken features: ['n_flows', 'n_packets', 'n_bytes', 'sum_n_dest_asn', 'avg_n_dest_asn', 'std_n_dest_asn', 'sum_n_dest_ports', 'avg_n_dest_ports', 'std_n_dest_ports', 'sum_n_dest_ip', 'avg_n_dest_ip', 'std_n_dest_ip', 'tcp_udp_ratio_packets', 'tcp_udp_ratio_bytes', 'dir_ratio_packets', 'dir_ratio_bytes', 'avg_duration', 'avg_ttl']\n",
      "        Default values: [0.  0.  0.  0.  0.  0.  0.  0.  0.  0.  0.  0.  0.5 0.5 0.5 0.5 0.  0. ]\n",
      "        Time series ID included: True\n",
      "        Time included: True    \n",
      "        Time format: TimeFormat.ID_TIME\n",
      "    Sliding window\n",
      "        Sliding window size: None\n",
      "        Sliding window prediction size: None\n",
      "        Sliding window step size: 1\n",
      "        Set shared size: 0\n",
      "    Fillers\n",
      "        Filler type: None\n",
      "    Scalers\n",
      "        Scaler type: None\n",
      "    Batch sizes\n",
      "        Train batch size: 32\n",
      "        Val batch size: 64\n",
      "        Test batch size: 128\n",
      "        All batch size: 128\n",
      "    Default workers\n",
      "        Init worker count: 4\n",
      "        Train worker count: 4\n",
      "        Val worker count: 3\n",
      "        Test worker count: 2\n",
      "        All worker count: 4\n",
      "    Other\n",
      "        Nan threshold: 1.0\n",
      "        Random state: 111\n",
      "                \n"
     ]
    }
   ],
   "source": [
    "config = TimeBasedConfig(ts_ids=54, random_state = 111)\n",
    "time_based_dataset.set_dataset_config_and_initialize(config, display_config_details=True, workers=0)"
   ]
  },
  {
   "cell_type": "markdown",
   "metadata": {},
   "source": [
    "#### Setting ts_ids with percentage of time series in dataset"
   ]
  },
  {
   "cell_type": "markdown",
   "metadata": {},
   "source": [
    "- Sets time series used in sets with percentage of time series in dataset.\n",
    "- When `test_ts_ids` is used, this will contain only values that are not in `test_ts_ids`.\n",
    "- Percentage must be greater than 0.\n",
    "- Percentages must be smaller than 1.0 (without time series used in `test_ts_ids`).\n",
    "- Is affected by `random_state`.\n",
    "    - When `random_state` is set, `ts_ids` (and `test_ts_ids`) will contain same time series."
   ]
  },
  {
   "cell_type": "code",
   "execution_count": 5,
   "metadata": {},
   "outputs": [
    {
     "name": "stderr",
     "output_type": "stream",
     "text": [
      "[2025-04-09 11:46:24,057][config][INFO] - Quick validation succeeded.\n",
      "[2025-04-09 11:46:24,065][config][INFO] - Using all times for all_time_period because train_time_period, val_time_period, and test_time_period are all set to None.\n",
      "[2025-04-09 11:46:24,066][config][INFO] - Finalization and validation completed successfully.\n",
      "[2025-04-09 11:46:24,070][cesnet_dataset][INFO] - Updating config on train/val/test/all and selected time series.\n",
      "100%|██████████| 54/54 [00:00<00:00, 562.64it/s]\n",
      "[2025-04-09 11:46:24,173][cesnet_dataset][INFO] - Config initialized successfully.\n"
     ]
    },
    {
     "name": "stdout",
     "output_type": "stream",
     "text": [
      "\n",
      "Config Details\n",
      "    Used for database: CESNET-TimeSeries24\n",
      "    Aggregation: AgreggationType.AGG_1_HOUR\n",
      "    Source: SourceType.INSTITUTION_SUBNETS\n",
      "\n",
      "    Time series\n",
      "        Time series IDS: [ 54 226 135 160 236 ...   7 118 322 275  86], Length=54\n",
      "        Test time series IDS: None\n",
      "    Time periods\n",
      "        Train time periods: None\n",
      "        Val time periods: None\n",
      "        Test time periods: None\n",
      "        All time periods: range(0, 6718)\n",
      "    Features\n",
      "        Taken features: ['n_flows', 'n_packets', 'n_bytes', 'sum_n_dest_asn', 'avg_n_dest_asn', 'std_n_dest_asn', 'sum_n_dest_ports', 'avg_n_dest_ports', 'std_n_dest_ports', 'sum_n_dest_ip', 'avg_n_dest_ip', 'std_n_dest_ip', 'tcp_udp_ratio_packets', 'tcp_udp_ratio_bytes', 'dir_ratio_packets', 'dir_ratio_bytes', 'avg_duration', 'avg_ttl']\n",
      "        Default values: [0.  0.  0.  0.  0.  0.  0.  0.  0.  0.  0.  0.  0.5 0.5 0.5 0.5 0.  0. ]\n",
      "        Time series ID included: True\n",
      "        Time included: True    \n",
      "        Time format: TimeFormat.ID_TIME\n",
      "    Sliding window\n",
      "        Sliding window size: None\n",
      "        Sliding window prediction size: None\n",
      "        Sliding window step size: 1\n",
      "        Set shared size: 0\n",
      "    Fillers\n",
      "        Filler type: None\n",
      "    Scalers\n",
      "        Scaler type: None\n",
      "    Batch sizes\n",
      "        Train batch size: 32\n",
      "        Val batch size: 64\n",
      "        Test batch size: 128\n",
      "        All batch size: 128\n",
      "    Default workers\n",
      "        Init worker count: 4\n",
      "        Train worker count: 4\n",
      "        Val worker count: 3\n",
      "        Test worker count: 2\n",
      "        All worker count: 4\n",
      "    Other\n",
      "        Nan threshold: 1.0\n",
      "        Random state: 111\n",
      "                \n"
     ]
    }
   ],
   "source": [
    "config = TimeBasedConfig(ts_ids=0.1, random_state = 111)\n",
    "time_based_dataset.set_dataset_config_and_initialize(config, display_config_details=True, workers=0)"
   ]
  },
  {
   "cell_type": "markdown",
   "metadata": {},
   "source": [
    "#### Setting ts_ids with specific time series indices"
   ]
  },
  {
   "cell_type": "markdown",
   "metadata": {},
   "source": [
    "- `ts_ids` and `test_ts_ids` must have unique values"
   ]
  },
  {
   "cell_type": "code",
   "execution_count": 6,
   "metadata": {},
   "outputs": [
    {
     "name": "stderr",
     "output_type": "stream",
     "text": [
      "[2025-04-09 11:46:24,178][config][INFO] - Quick validation succeeded.\n",
      "[2025-04-09 11:46:24,184][config][INFO] - Using all times for all_time_period because train_time_period, val_time_period, and test_time_period are all set to None.\n",
      "[2025-04-09 11:46:24,185][config][INFO] - Finalization and validation completed successfully.\n",
      "[2025-04-09 11:46:24,189][cesnet_dataset][INFO] - Updating config on train/val/test/all and selected time series.\n",
      "100%|██████████| 6/6 [00:00<00:00, 663.78it/s]\n",
      "[2025-04-09 11:46:24,199][cesnet_dataset][INFO] - Config initialized successfully.\n"
     ]
    },
    {
     "name": "stdout",
     "output_type": "stream",
     "text": [
      "\n",
      "Config Details\n",
      "    Used for database: CESNET-TimeSeries24\n",
      "    Aggregation: AgreggationType.AGG_1_HOUR\n",
      "    Source: SourceType.INSTITUTION_SUBNETS\n",
      "\n",
      "    Time series\n",
      "        Time series IDS: [0 1 2 3 4 5], Length=6\n",
      "        Test time series IDS: None\n",
      "    Time periods\n",
      "        Train time periods: None\n",
      "        Val time periods: None\n",
      "        Test time periods: None\n",
      "        All time periods: range(0, 6718)\n",
      "    Features\n",
      "        Taken features: ['n_flows', 'n_packets', 'n_bytes', 'sum_n_dest_asn', 'avg_n_dest_asn', 'std_n_dest_asn', 'sum_n_dest_ports', 'avg_n_dest_ports', 'std_n_dest_ports', 'sum_n_dest_ip', 'avg_n_dest_ip', 'std_n_dest_ip', 'tcp_udp_ratio_packets', 'tcp_udp_ratio_bytes', 'dir_ratio_packets', 'dir_ratio_bytes', 'avg_duration', 'avg_ttl']\n",
      "        Default values: [0.  0.  0.  0.  0.  0.  0.  0.  0.  0.  0.  0.  0.5 0.5 0.5 0.5 0.  0. ]\n",
      "        Time series ID included: True\n",
      "        Time included: True    \n",
      "        Time format: TimeFormat.ID_TIME\n",
      "    Sliding window\n",
      "        Sliding window size: None\n",
      "        Sliding window prediction size: None\n",
      "        Sliding window step size: 1\n",
      "        Set shared size: 0\n",
      "    Fillers\n",
      "        Filler type: None\n",
      "    Scalers\n",
      "        Scaler type: None\n",
      "    Batch sizes\n",
      "        Train batch size: 32\n",
      "        Val batch size: 64\n",
      "        Test batch size: 128\n",
      "        All batch size: 128\n",
      "    Default workers\n",
      "        Init worker count: 4\n",
      "        Train worker count: 4\n",
      "        Val worker count: 3\n",
      "        Test worker count: 2\n",
      "        All worker count: 4\n",
      "    Other\n",
      "        Nan threshold: 1.0\n",
      "        Random state: None\n",
      "                \n"
     ]
    }
   ],
   "source": [
    "config = TimeBasedConfig(ts_ids=[0,1,2,3,4,5])\n",
    "time_based_dataset.set_dataset_config_and_initialize(config, display_config_details=True, workers=0)"
   ]
  },
  {
   "cell_type": "markdown",
   "metadata": {},
   "source": [
    "### Creating train/val/test sets"
   ]
  },
  {
   "cell_type": "markdown",
   "metadata": {},
   "source": [
    "- Sets time period in set for every time series in `ts_ids`\n",
    "- You can leave any set value set as None.\n",
    "- Can use `nan_threshold` to set how many nan values will be tolerated.\n",
    "    - `nan_threshold` = 1.0, means that time series can be completely empty.\n",
    "    - is applied after sets.\n",
    "    - Is checked seperately for every set."
   ]
  },
  {
   "cell_type": "markdown",
   "metadata": {},
   "source": [
    "#### Setting sets with time indices"
   ]
  },
  {
   "cell_type": "markdown",
   "metadata": {},
   "source": [
    "- Sets sets as range of time indices.\n",
    "- Sets must follow these rules:\n",
    "    - Used time periods must be connected.\n",
    "    - Sets can share subset of times.\n",
    "    - start of `train_time_period` < start of `val_time_period` < start of `test_time_period`."
   ]
  },
  {
   "cell_type": "code",
   "execution_count": 7,
   "metadata": {},
   "outputs": [
    {
     "name": "stderr",
     "output_type": "stream",
     "text": [
      "[2025-04-09 11:46:24,205][config][INFO] - Quick validation succeeded.\n",
      "[2025-04-09 11:46:24,225][config][INFO] - Finalization and validation completed successfully.\n",
      "[2025-04-09 11:46:24,231][cesnet_dataset][INFO] - Updating config on train/val/test/all and selected time series.\n",
      "100%|██████████| 54/54 [00:00<00:00, 755.68it/s]\n",
      "[2025-04-09 11:46:24,308][cesnet_dataset][INFO] - Config initialized successfully.\n"
     ]
    },
    {
     "name": "stdout",
     "output_type": "stream",
     "text": [
      "\n",
      "Config Details\n",
      "    Used for database: CESNET-TimeSeries24\n",
      "    Aggregation: AgreggationType.AGG_1_HOUR\n",
      "    Source: SourceType.INSTITUTION_SUBNETS\n",
      "\n",
      "    Time series\n",
      "        Time series IDS: [ 40 340 448 538 305 ...  28 357 154 464 370], Length=54\n",
      "        Test time series IDS: None\n",
      "    Time periods\n",
      "        Train time periods: range(0, 2000)\n",
      "        Val time periods: range(2000, 4000)\n",
      "        Test time periods: range(4000, 5000)\n",
      "        All time periods: range(0, 5000)\n",
      "    Features\n",
      "        Taken features: ['n_flows', 'n_packets', 'n_bytes', 'sum_n_dest_asn', 'avg_n_dest_asn', 'std_n_dest_asn', 'sum_n_dest_ports', 'avg_n_dest_ports', 'std_n_dest_ports', 'sum_n_dest_ip', 'avg_n_dest_ip', 'std_n_dest_ip', 'tcp_udp_ratio_packets', 'tcp_udp_ratio_bytes', 'dir_ratio_packets', 'dir_ratio_bytes', 'avg_duration', 'avg_ttl']\n",
      "        Default values: [0.  0.  0.  0.  0.  0.  0.  0.  0.  0.  0.  0.  0.5 0.5 0.5 0.5 0.  0. ]\n",
      "        Time series ID included: True\n",
      "        Time included: True    \n",
      "        Time format: TimeFormat.ID_TIME\n",
      "    Sliding window\n",
      "        Sliding window size: None\n",
      "        Sliding window prediction size: None\n",
      "        Sliding window step size: 1\n",
      "        Set shared size: 0\n",
      "    Fillers\n",
      "        Filler type: None\n",
      "    Scalers\n",
      "        Scaler type: None\n",
      "    Batch sizes\n",
      "        Train batch size: 32\n",
      "        Val batch size: 64\n",
      "        Test batch size: 128\n",
      "        All batch size: 128\n",
      "    Default workers\n",
      "        Init worker count: 4\n",
      "        Train worker count: 4\n",
      "        Val worker count: 3\n",
      "        Test worker count: 2\n",
      "        All worker count: 4\n",
      "    Other\n",
      "        Nan threshold: 1.0\n",
      "        Random state: None\n",
      "                \n"
     ]
    }
   ],
   "source": [
    "config = TimeBasedConfig(ts_ids=54, train_time_period=range(0, 2000), val_time_period=range(2000, 4000), test_time_period=range(4000, 5000))\n",
    "time_based_dataset.set_dataset_config_and_initialize(config, display_config_details=True, workers=0)"
   ]
  },
  {
   "cell_type": "markdown",
   "metadata": {},
   "source": [
    "#### Setting sets with datetime"
   ]
  },
  {
   "cell_type": "markdown",
   "metadata": {},
   "source": [
    "- Sets sets with tuple of datetime objects.\n",
    "- Datetime objects are expected to be of UTC.\n",
    "- Sets must follow these rules:\n",
    "    - Used time periods must be connected.\n",
    "    - Sets can share subset of times.\n",
    "    - start of `train_time_period` < start of `val_time_period` < start of `test_time_period`."
   ]
  },
  {
   "cell_type": "code",
   "execution_count": 8,
   "metadata": {},
   "outputs": [
    {
     "name": "stderr",
     "output_type": "stream",
     "text": [
      "[2025-04-09 11:46:24,314][config][INFO] - Quick validation succeeded.\n",
      "[2025-04-09 11:46:24,320][config][INFO] - Finalization and validation completed successfully.\n",
      "[2025-04-09 11:46:24,324][cesnet_dataset][INFO] - Updating config on train/val/test/all and selected time series.\n",
      "100%|██████████| 54/54 [00:00<00:00, 1389.21it/s]\n",
      "[2025-04-09 11:46:24,367][cesnet_dataset][INFO] - Config initialized successfully.\n"
     ]
    },
    {
     "name": "stdout",
     "output_type": "stream",
     "text": [
      "\n",
      "Config Details\n",
      "    Used for database: CESNET-TimeSeries24\n",
      "    Aggregation: AgreggationType.AGG_1_HOUR\n",
      "    Source: SourceType.INSTITUTION_SUBNETS\n",
      "\n",
      "    Time series\n",
      "        Time series IDS: [286 144 303 489 445 ... 266 450 396  75 369], Length=54\n",
      "        Test time series IDS: None\n",
      "    Time periods\n",
      "        Train time periods: range(0, 767)\n",
      "        Val time periods: range(767, 1487)\n",
      "        Test time periods: range(1487, 1871)\n",
      "        All time periods: range(0, 1871)\n",
      "    Features\n",
      "        Taken features: ['n_flows', 'n_packets', 'n_bytes', 'sum_n_dest_asn', 'avg_n_dest_asn', 'std_n_dest_asn', 'sum_n_dest_ports', 'avg_n_dest_ports', 'std_n_dest_ports', 'sum_n_dest_ip', 'avg_n_dest_ip', 'std_n_dest_ip', 'tcp_udp_ratio_packets', 'tcp_udp_ratio_bytes', 'dir_ratio_packets', 'dir_ratio_bytes', 'avg_duration', 'avg_ttl']\n",
      "        Default values: [0.  0.  0.  0.  0.  0.  0.  0.  0.  0.  0.  0.  0.5 0.5 0.5 0.5 0.  0. ]\n",
      "        Time series ID included: True\n",
      "        Time included: True    \n",
      "        Time format: TimeFormat.ID_TIME\n",
      "    Sliding window\n",
      "        Sliding window size: None\n",
      "        Sliding window prediction size: None\n",
      "        Sliding window step size: 1\n",
      "        Set shared size: 0\n",
      "    Fillers\n",
      "        Filler type: None\n",
      "    Scalers\n",
      "        Scaler type: None\n",
      "    Batch sizes\n",
      "        Train batch size: 32\n",
      "        Val batch size: 64\n",
      "        Test batch size: 128\n",
      "        All batch size: 128\n",
      "    Default workers\n",
      "        Init worker count: 4\n",
      "        Train worker count: 4\n",
      "        Val worker count: 3\n",
      "        Test worker count: 2\n",
      "        All worker count: 4\n",
      "    Other\n",
      "        Nan threshold: 1.0\n",
      "        Random state: None\n",
      "                \n"
     ]
    }
   ],
   "source": [
    "config = TimeBasedConfig(ts_ids=54, train_time_period=(datetime(2023, 10, 9, 0), datetime(2023, 11, 9, 23)), val_time_period=(datetime(2023, 11, 9, 23), datetime(2023, 12, 9, 23)), test_time_period=(datetime(2023, 12, 9, 23), datetime(2023, 12, 25, 23)))\n",
    "time_based_dataset.set_dataset_config_and_initialize(config, display_config_details=True, workers=0)"
   ]
  },
  {
   "cell_type": "markdown",
   "metadata": {},
   "source": [
    "#### Setting sets with percentage"
   ]
  },
  {
   "cell_type": "markdown",
   "metadata": {},
   "source": [
    "- Sets sets a percentage of whole time period from dataset.\n",
    "- Always starts from first time.\n",
    "- Must be: 0 < sum of percentages of set time periods <= 1."
   ]
  },
  {
   "cell_type": "code",
   "execution_count": 9,
   "metadata": {},
   "outputs": [
    {
     "name": "stderr",
     "output_type": "stream",
     "text": [
      "[2025-04-09 11:46:24,372][config][INFO] - Quick validation succeeded.\n",
      "[2025-04-09 11:46:24,392][config][INFO] - Finalization and validation completed successfully.\n",
      "[2025-04-09 11:46:24,397][cesnet_dataset][INFO] - Updating config on train/val/test/all and selected time series.\n",
      "100%|██████████| 54/54 [00:00<00:00, 518.72it/s]\n",
      "[2025-04-09 11:46:24,506][cesnet_dataset][INFO] - Config initialized successfully.\n"
     ]
    },
    {
     "name": "stdout",
     "output_type": "stream",
     "text": [
      "\n",
      "Config Details\n",
      "    Used for database: CESNET-TimeSeries24\n",
      "    Aggregation: AgreggationType.AGG_1_HOUR\n",
      "    Source: SourceType.INSTITUTION_SUBNETS\n",
      "\n",
      "    Time series\n",
      "        Time series IDS: [235 321 472 303 370 ... 451 397 376 505 189], Length=54\n",
      "        Test time series IDS: None\n",
      "    Time periods\n",
      "        Train time periods: range(0, 3359)\n",
      "        Val time periods: range(3359, 5374)\n",
      "        Test time periods: range(5374, 6717)\n",
      "        All time periods: range(0, 6717)\n",
      "    Features\n",
      "        Taken features: ['n_flows', 'n_packets', 'n_bytes', 'sum_n_dest_asn', 'avg_n_dest_asn', 'std_n_dest_asn', 'sum_n_dest_ports', 'avg_n_dest_ports', 'std_n_dest_ports', 'sum_n_dest_ip', 'avg_n_dest_ip', 'std_n_dest_ip', 'tcp_udp_ratio_packets', 'tcp_udp_ratio_bytes', 'dir_ratio_packets', 'dir_ratio_bytes', 'avg_duration', 'avg_ttl']\n",
      "        Default values: [0.  0.  0.  0.  0.  0.  0.  0.  0.  0.  0.  0.  0.5 0.5 0.5 0.5 0.  0. ]\n",
      "        Time series ID included: True\n",
      "        Time included: True    \n",
      "        Time format: TimeFormat.ID_TIME\n",
      "    Sliding window\n",
      "        Sliding window size: None\n",
      "        Sliding window prediction size: None\n",
      "        Sliding window step size: 1\n",
      "        Set shared size: 0\n",
      "    Fillers\n",
      "        Filler type: None\n",
      "    Scalers\n",
      "        Scaler type: None\n",
      "    Batch sizes\n",
      "        Train batch size: 32\n",
      "        Val batch size: 64\n",
      "        Test batch size: 128\n",
      "        All batch size: 128\n",
      "    Default workers\n",
      "        Init worker count: 4\n",
      "        Train worker count: 4\n",
      "        Val worker count: 3\n",
      "        Test worker count: 2\n",
      "        All worker count: 4\n",
      "    Other\n",
      "        Nan threshold: 1.0\n",
      "        Random state: None\n",
      "                \n"
     ]
    }
   ],
   "source": [
    "config = TimeBasedConfig(ts_ids=54, train_time_period=0.5, val_time_period=0.3, test_time_period=0.2)\n",
    "time_based_dataset.set_dataset_config_and_initialize(config, display_config_details=True, workers=0)"
   ]
  },
  {
   "cell_type": "markdown",
   "metadata": {},
   "source": [
    "### Selecting features"
   ]
  },
  {
   "cell_type": "markdown",
   "metadata": {},
   "source": [
    "- Affects which features will be returned when loading data.\n",
    "- Setting `include_time` as True will add time to features that return when loading data.\n",
    "- Setting `include_ts_id` as True will add time series id to features that return when loading data."
   ]
  },
  {
   "cell_type": "markdown",
   "metadata": {},
   "source": [
    "#### Setting features to take as \"all\""
   ]
  },
  {
   "cell_type": "code",
   "execution_count": 10,
   "metadata": {},
   "outputs": [
    {
     "name": "stderr",
     "output_type": "stream",
     "text": [
      "[2025-04-09 11:46:24,512][config][INFO] - Quick validation succeeded.\n",
      "[2025-04-09 11:46:24,532][config][INFO] - Finalization and validation completed successfully.\n",
      "[2025-04-09 11:46:24,536][cesnet_dataset][INFO] - Updating config on train/val/test/all and selected time series.\n",
      "100%|██████████| 54/54 [00:00<00:00, 566.63it/s]\n",
      "[2025-04-09 11:46:24,638][cesnet_dataset][INFO] - Config initialized successfully.\n"
     ]
    },
    {
     "name": "stdout",
     "output_type": "stream",
     "text": [
      "\n",
      "Config Details\n",
      "    Used for database: CESNET-TimeSeries24\n",
      "    Aggregation: AgreggationType.AGG_1_HOUR\n",
      "    Source: SourceType.INSTITUTION_SUBNETS\n",
      "\n",
      "    Time series\n",
      "        Time series IDS: [267 469 139  74  72 ... 380  46 396 329 325], Length=54\n",
      "        Test time series IDS: None\n",
      "    Time periods\n",
      "        Train time periods: range(0, 3359)\n",
      "        Val time periods: range(3359, 5374)\n",
      "        Test time periods: range(5374, 6717)\n",
      "        All time periods: range(0, 6717)\n",
      "    Features\n",
      "        Taken features: ['n_flows', 'n_packets', 'n_bytes', 'sum_n_dest_asn', 'avg_n_dest_asn', 'std_n_dest_asn', 'sum_n_dest_ports', 'avg_n_dest_ports', 'std_n_dest_ports', 'sum_n_dest_ip', 'avg_n_dest_ip', 'std_n_dest_ip', 'tcp_udp_ratio_packets', 'tcp_udp_ratio_bytes', 'dir_ratio_packets', 'dir_ratio_bytes', 'avg_duration', 'avg_ttl']\n",
      "        Default values: [0.  0.  0.  0.  0.  0.  0.  0.  0.  0.  0.  0.  0.5 0.5 0.5 0.5 0.  0. ]\n",
      "        Time series ID included: True\n",
      "        Time included: True    \n",
      "        Time format: TimeFormat.ID_TIME\n",
      "    Sliding window\n",
      "        Sliding window size: None\n",
      "        Sliding window prediction size: None\n",
      "        Sliding window step size: 1\n",
      "        Set shared size: 0\n",
      "    Fillers\n",
      "        Filler type: None\n",
      "    Scalers\n",
      "        Scaler type: None\n",
      "    Batch sizes\n",
      "        Train batch size: 32\n",
      "        Val batch size: 64\n",
      "        Test batch size: 128\n",
      "        All batch size: 128\n",
      "    Default workers\n",
      "        Init worker count: 4\n",
      "        Train worker count: 4\n",
      "        Val worker count: 3\n",
      "        Test worker count: 2\n",
      "        All worker count: 4\n",
      "    Other\n",
      "        Nan threshold: 1.0\n",
      "        Random state: None\n",
      "                \n"
     ]
    }
   ],
   "source": [
    "config = TimeBasedConfig(ts_ids=54, train_time_period=0.5, val_time_period=0.3, test_time_period=0.2, features_to_take=\"all\")\n",
    "time_based_dataset.set_dataset_config_and_initialize(config, display_config_details=True, workers=0)"
   ]
  },
  {
   "cell_type": "markdown",
   "metadata": {},
   "source": [
    "#### Setting features via list"
   ]
  },
  {
   "cell_type": "code",
   "execution_count": 11,
   "metadata": {},
   "outputs": [
    {
     "name": "stderr",
     "output_type": "stream",
     "text": [
      "[2025-04-09 11:46:24,645][config][INFO] - Quick validation succeeded.\n",
      "[2025-04-09 11:46:24,665][config][INFO] - Finalization and validation completed successfully.\n",
      "[2025-04-09 11:46:24,670][cesnet_dataset][INFO] - Updating config on train/val/test/all and selected time series.\n",
      "100%|██████████| 54/54 [00:00<00:00, 839.86it/s]\n",
      "[2025-04-09 11:46:24,739][cesnet_dataset][INFO] - Config initialized successfully.\n"
     ]
    },
    {
     "name": "stdout",
     "output_type": "stream",
     "text": [
      "\n",
      "Config Details\n",
      "    Used for database: CESNET-TimeSeries24\n",
      "    Aggregation: AgreggationType.AGG_1_HOUR\n",
      "    Source: SourceType.INSTITUTION_SUBNETS\n",
      "\n",
      "    Time series\n",
      "        Time series IDS: [ 53 257 213 519 134 ... 530 508 338 503  33], Length=54\n",
      "        Test time series IDS: None\n",
      "    Time periods\n",
      "        Train time periods: range(0, 3359)\n",
      "        Val time periods: range(3359, 5374)\n",
      "        Test time periods: range(5374, 6717)\n",
      "        All time periods: range(0, 6717)\n",
      "    Features\n",
      "        Taken features: ['n_flows', 'n_packets']\n",
      "        Default values: [0. 0.]\n",
      "        Time series ID included: True\n",
      "        Time included: True    \n",
      "        Time format: TimeFormat.ID_TIME\n",
      "    Sliding window\n",
      "        Sliding window size: None\n",
      "        Sliding window prediction size: None\n",
      "        Sliding window step size: 1\n",
      "        Set shared size: 0\n",
      "    Fillers\n",
      "        Filler type: None\n",
      "    Scalers\n",
      "        Scaler type: None\n",
      "    Batch sizes\n",
      "        Train batch size: 32\n",
      "        Val batch size: 64\n",
      "        Test batch size: 128\n",
      "        All batch size: 128\n",
      "    Default workers\n",
      "        Init worker count: 4\n",
      "        Train worker count: 4\n",
      "        Val worker count: 3\n",
      "        Test worker count: 2\n",
      "        All worker count: 4\n",
      "    Other\n",
      "        Nan threshold: 1.0\n",
      "        Random state: None\n",
      "                \n"
     ]
    }
   ],
   "source": [
    "config = TimeBasedConfig(ts_ids=54, train_time_period=0.5, val_time_period=0.3, test_time_period=0.2, features_to_take=[\"n_flows\", \"n_packets\"])\n",
    "time_based_dataset.set_dataset_config_and_initialize(config, display_config_details=True, workers=0)"
   ]
  },
  {
   "cell_type": "markdown",
   "metadata": {},
   "source": [
    "#### Including time and time series id"
   ]
  },
  {
   "cell_type": "code",
   "execution_count": 12,
   "metadata": {},
   "outputs": [
    {
     "name": "stderr",
     "output_type": "stream",
     "text": [
      "[2025-04-09 11:46:24,745][config][INFO] - Quick validation succeeded.\n",
      "[2025-04-09 11:46:24,766][config][INFO] - Finalization and validation completed successfully.\n",
      "[2025-04-09 11:46:24,771][cesnet_dataset][INFO] - Updating config on train/val/test/all and selected time series.\n",
      "100%|██████████| 54/54 [00:00<00:00, 830.22it/s]\n",
      "[2025-04-09 11:46:24,842][cesnet_dataset][INFO] - Config initialized successfully.\n"
     ]
    },
    {
     "name": "stdout",
     "output_type": "stream",
     "text": [
      "\n",
      "Config Details\n",
      "    Used for database: CESNET-TimeSeries24\n",
      "    Aggregation: AgreggationType.AGG_1_HOUR\n",
      "    Source: SourceType.INSTITUTION_SUBNETS\n",
      "\n",
      "    Time series\n",
      "        Time series IDS: [447 343  29 183 476 ... 459 531 485 495  21], Length=54\n",
      "        Test time series IDS: None\n",
      "    Time periods\n",
      "        Train time periods: range(0, 3359)\n",
      "        Val time periods: range(3359, 5374)\n",
      "        Test time periods: range(5374, 6717)\n",
      "        All time periods: range(0, 6717)\n",
      "    Features\n",
      "        Taken features: ['n_flows', 'n_packets']\n",
      "        Default values: [0. 0.]\n",
      "        Time series ID included: True\n",
      "        Time included: True    \n",
      "        Time format: TimeFormat.ID_TIME\n",
      "    Sliding window\n",
      "        Sliding window size: None\n",
      "        Sliding window prediction size: None\n",
      "        Sliding window step size: 1\n",
      "        Set shared size: 0\n",
      "    Fillers\n",
      "        Filler type: None\n",
      "    Scalers\n",
      "        Scaler type: None\n",
      "    Batch sizes\n",
      "        Train batch size: 32\n",
      "        Val batch size: 64\n",
      "        Test batch size: 128\n",
      "        All batch size: 128\n",
      "    Default workers\n",
      "        Init worker count: 4\n",
      "        Train worker count: 4\n",
      "        Val worker count: 3\n",
      "        Test worker count: 2\n",
      "        All worker count: 4\n",
      "    Other\n",
      "        Nan threshold: 1.0\n",
      "        Random state: None\n",
      "                \n"
     ]
    }
   ],
   "source": [
    "config = TimeBasedConfig(ts_ids=54, train_time_period=0.5, val_time_period=0.3, test_time_period=0.2, features_to_take=[\"n_flows\", \"n_packets\"], include_time=True, include_ts_id=True, time_format=TimeFormat.ID_TIME)\n",
    "time_based_dataset.set_dataset_config_and_initialize(config, display_config_details=True, workers=0)"
   ]
  },
  {
   "cell_type": "markdown",
   "metadata": {},
   "source": [
    "### Selecting which additional time series to load for test set"
   ]
  },
  {
   "cell_type": "markdown",
   "metadata": {},
   "source": [
    "- Only usable when `test_time_period` is not None.\n",
    "- Follows same rule as `ts_ids`.\n",
    "- Is affected by `random_state`.\n",
    "    - When `random_state` is set, `test_ts_ids` (and `ts_ids`) will contain same time series.\n",
    "- Is affected by `nan_threshold`."
   ]
  },
  {
   "cell_type": "code",
   "execution_count": 13,
   "metadata": {},
   "outputs": [
    {
     "name": "stderr",
     "output_type": "stream",
     "text": [
      "[2025-04-09 11:46:24,846][config][INFO] - Quick validation succeeded.\n",
      "[2025-04-09 11:46:24,867][config][INFO] - Finalization and validation completed successfully.\n",
      "[2025-04-09 11:46:24,872][cesnet_dataset][INFO] - Updating config on train/val/test/all and selected time series.\n",
      "100%|██████████| 54/54 [00:00<00:00, 582.82it/s]\n",
      "[2025-04-09 11:46:24,974][cesnet_dataset][INFO] - Updating config on test_other and selected time series.\n",
      "100%|██████████| 22/22 [00:00<00:00, 1071.88it/s]\n",
      "[2025-04-09 11:46:24,999][cesnet_dataset][INFO] - Config initialized successfully.\n"
     ]
    },
    {
     "name": "stdout",
     "output_type": "stream",
     "text": [
      "\n",
      "Config Details\n",
      "    Used for database: CESNET-TimeSeries24\n",
      "    Aggregation: AgreggationType.AGG_1_HOUR\n",
      "    Source: SourceType.INSTITUTION_SUBNETS\n",
      "\n",
      "    Time series\n",
      "        Time series IDS: [121 428 538 509 369 ... 250 209  66 241 284], Length=54\n",
      "        Test time series IDS: [ 86 116 436 438 364 ...  32 340 229 507 394], Length=22\n",
      "    Time periods\n",
      "        Train time periods: range(0, 3359)\n",
      "        Val time periods: range(3359, 5374)\n",
      "        Test time periods: range(5374, 6717)\n",
      "        All time periods: range(0, 6717)\n",
      "    Features\n",
      "        Taken features: ['n_flows', 'n_packets', 'n_bytes', 'sum_n_dest_asn', 'avg_n_dest_asn', 'std_n_dest_asn', 'sum_n_dest_ports', 'avg_n_dest_ports', 'std_n_dest_ports', 'sum_n_dest_ip', 'avg_n_dest_ip', 'std_n_dest_ip', 'tcp_udp_ratio_packets', 'tcp_udp_ratio_bytes', 'dir_ratio_packets', 'dir_ratio_bytes', 'avg_duration', 'avg_ttl']\n",
      "        Default values: [0.  0.  0.  0.  0.  0.  0.  0.  0.  0.  0.  0.  0.5 0.5 0.5 0.5 0.  0. ]\n",
      "        Time series ID included: True\n",
      "        Time included: True    \n",
      "        Time format: TimeFormat.ID_TIME\n",
      "    Sliding window\n",
      "        Sliding window size: None\n",
      "        Sliding window prediction size: None\n",
      "        Sliding window step size: 1\n",
      "        Set shared size: 0\n",
      "    Fillers\n",
      "        Filler type: None\n",
      "    Scalers\n",
      "        Scaler type: None\n",
      "    Batch sizes\n",
      "        Train batch size: 32\n",
      "        Val batch size: 64\n",
      "        Test batch size: 128\n",
      "        All batch size: 128\n",
      "    Default workers\n",
      "        Init worker count: 4\n",
      "        Train worker count: 4\n",
      "        Val worker count: 3\n",
      "        Test worker count: 2\n",
      "        All worker count: 4\n",
      "    Other\n",
      "        Nan threshold: 1.0\n",
      "        Random state: None\n",
      "                \n"
     ]
    }
   ],
   "source": [
    "config = TimeBasedConfig(ts_ids=54, train_time_period=0.5, val_time_period=0.3, test_time_period=0.2, test_ts_ids=22)\n",
    "time_based_dataset.set_dataset_config_and_initialize(config, display_config_details=True, workers=0)"
   ]
  },
  {
   "cell_type": "markdown",
   "metadata": {},
   "source": [
    "### Selecting all set"
   ]
  },
  {
   "cell_type": "markdown",
   "metadata": {},
   "source": [
    "- Contains time series from `ts_ids`."
   ]
  },
  {
   "cell_type": "markdown",
   "metadata": {},
   "source": [
    "#### All set when other sets are None"
   ]
  },
  {
   "cell_type": "markdown",
   "metadata": {},
   "source": [
    "- All set will contain whole time period of dataset."
   ]
  },
  {
   "cell_type": "code",
   "execution_count": 14,
   "metadata": {},
   "outputs": [
    {
     "name": "stderr",
     "output_type": "stream",
     "text": [
      "[2025-04-09 11:46:25,003][config][INFO] - Quick validation succeeded.\n",
      "[2025-04-09 11:46:25,009][config][INFO] - Using all times for all_time_period because train_time_period, val_time_period, and test_time_period are all set to None.\n",
      "[2025-04-09 11:46:25,010][config][INFO] - Finalization and validation completed successfully.\n",
      "[2025-04-09 11:46:25,014][cesnet_dataset][INFO] - Updating config on train/val/test/all and selected time series.\n",
      "100%|██████████| 54/54 [00:00<00:00, 612.70it/s]\n",
      "[2025-04-09 11:46:25,107][cesnet_dataset][INFO] - Config initialized successfully.\n"
     ]
    },
    {
     "name": "stdout",
     "output_type": "stream",
     "text": [
      "\n",
      "Config Details\n",
      "    Used for database: CESNET-TimeSeries24\n",
      "    Aggregation: AgreggationType.AGG_1_HOUR\n",
      "    Source: SourceType.INSTITUTION_SUBNETS\n",
      "\n",
      "    Time series\n",
      "        Time series IDS: [ 50 259 194 310 291 ... 369 156  18 232 149], Length=54\n",
      "        Test time series IDS: None\n",
      "    Time periods\n",
      "        Train time periods: None\n",
      "        Val time periods: None\n",
      "        Test time periods: None\n",
      "        All time periods: range(0, 6718)\n",
      "    Features\n",
      "        Taken features: ['n_flows', 'n_packets', 'n_bytes', 'sum_n_dest_asn', 'avg_n_dest_asn', 'std_n_dest_asn', 'sum_n_dest_ports', 'avg_n_dest_ports', 'std_n_dest_ports', 'sum_n_dest_ip', 'avg_n_dest_ip', 'std_n_dest_ip', 'tcp_udp_ratio_packets', 'tcp_udp_ratio_bytes', 'dir_ratio_packets', 'dir_ratio_bytes', 'avg_duration', 'avg_ttl']\n",
      "        Default values: [0.  0.  0.  0.  0.  0.  0.  0.  0.  0.  0.  0.  0.5 0.5 0.5 0.5 0.  0. ]\n",
      "        Time series ID included: True\n",
      "        Time included: True    \n",
      "        Time format: TimeFormat.ID_TIME\n",
      "    Sliding window\n",
      "        Sliding window size: None\n",
      "        Sliding window prediction size: None\n",
      "        Sliding window step size: 1\n",
      "        Set shared size: 0\n",
      "    Fillers\n",
      "        Filler type: None\n",
      "    Scalers\n",
      "        Scaler type: None\n",
      "    Batch sizes\n",
      "        Train batch size: 32\n",
      "        Val batch size: 64\n",
      "        Test batch size: 128\n",
      "        All batch size: 128\n",
      "    Default workers\n",
      "        Init worker count: 4\n",
      "        Train worker count: 4\n",
      "        Val worker count: 3\n",
      "        Test worker count: 2\n",
      "        All worker count: 4\n",
      "    Other\n",
      "        Nan threshold: 1.0\n",
      "        Random state: None\n",
      "                \n"
     ]
    }
   ],
   "source": [
    "config = TimeBasedConfig(ts_ids=54, train_time_period=None, val_time_period=None, test_time_period=None)\n",
    "time_based_dataset.set_dataset_config_and_initialize(config, display_config_details=True, workers=0)"
   ]
  },
  {
   "cell_type": "markdown",
   "metadata": {},
   "source": [
    "#### All set when at least one other set is not None"
   ]
  },
  {
   "cell_type": "markdown",
   "metadata": {},
   "source": [
    "- All set will contain total time period of train + val + test."
   ]
  },
  {
   "cell_type": "code",
   "execution_count": 15,
   "metadata": {},
   "outputs": [
    {
     "name": "stderr",
     "output_type": "stream",
     "text": [
      "[2025-04-09 11:46:25,112][config][INFO] - Quick validation succeeded.\n",
      "[2025-04-09 11:46:25,133][config][INFO] - Finalization and validation completed successfully.\n",
      "[2025-04-09 11:46:25,137][cesnet_dataset][INFO] - Updating config on train/val/test/all and selected time series.\n",
      "100%|██████████| 54/54 [00:00<00:00, 574.58it/s]\n",
      "[2025-04-09 11:46:25,236][cesnet_dataset][INFO] - Config initialized successfully.\n"
     ]
    },
    {
     "name": "stdout",
     "output_type": "stream",
     "text": [
      "\n",
      "Config Details\n",
      "    Used for database: CESNET-TimeSeries24\n",
      "    Aggregation: AgreggationType.AGG_1_HOUR\n",
      "    Source: SourceType.INSTITUTION_SUBNETS\n",
      "\n",
      "    Time series\n",
      "        Time series IDS: [206 521  77  97 416 ... 147  49 366  37 384], Length=54\n",
      "        Test time series IDS: None\n",
      "    Time periods\n",
      "        Train time periods: range(0, 3359)\n",
      "        Val time periods: range(3359, 5374)\n",
      "        Test time periods: range(5374, 6717)\n",
      "        All time periods: range(0, 6717)\n",
      "    Features\n",
      "        Taken features: ['n_flows', 'n_packets', 'n_bytes', 'sum_n_dest_asn', 'avg_n_dest_asn', 'std_n_dest_asn', 'sum_n_dest_ports', 'avg_n_dest_ports', 'std_n_dest_ports', 'sum_n_dest_ip', 'avg_n_dest_ip', 'std_n_dest_ip', 'tcp_udp_ratio_packets', 'tcp_udp_ratio_bytes', 'dir_ratio_packets', 'dir_ratio_bytes', 'avg_duration', 'avg_ttl']\n",
      "        Default values: [0.  0.  0.  0.  0.  0.  0.  0.  0.  0.  0.  0.  0.5 0.5 0.5 0.5 0.  0. ]\n",
      "        Time series ID included: True\n",
      "        Time included: True    \n",
      "        Time format: TimeFormat.ID_TIME\n",
      "    Sliding window\n",
      "        Sliding window size: None\n",
      "        Sliding window prediction size: None\n",
      "        Sliding window step size: 1\n",
      "        Set shared size: 0\n",
      "    Fillers\n",
      "        Filler type: None\n",
      "    Scalers\n",
      "        Scaler type: None\n",
      "    Batch sizes\n",
      "        Train batch size: 32\n",
      "        Val batch size: 64\n",
      "        Test batch size: 128\n",
      "        All batch size: 128\n",
      "    Default workers\n",
      "        Init worker count: 4\n",
      "        Train worker count: 4\n",
      "        Val worker count: 3\n",
      "        Test worker count: 2\n",
      "        All worker count: 4\n",
      "    Other\n",
      "        Nan threshold: 1.0\n",
      "        Random state: None\n",
      "                \n"
     ]
    }
   ],
   "source": [
    "config = TimeBasedConfig(ts_ids=54, train_time_period=0.5, val_time_period=0.3, test_time_period=0.2)\n",
    "time_based_dataset.set_dataset_config_and_initialize(config, display_config_details=True, workers=0)"
   ]
  }
 ],
 "metadata": {
  "kernelspec": {
   "display_name": ".venv",
   "language": "python",
   "name": "python3"
  },
  "language_info": {
   "codemirror_mode": {
    "name": "ipython",
    "version": 3
   },
   "file_extension": ".py",
   "mimetype": "text/x-python",
   "name": "python",
   "nbconvert_exporter": "python",
   "pygments_lexer": "ipython3",
   "version": "3.12.3"
  }
 },
 "nbformat": 4,
 "nbformat_minor": 2
}
