{
 "cells": [
  {
   "cell_type": "markdown",
   "metadata": {},
   "source": [
    "# Choosing data for SeriesBasedCesnetDataset"
   ]
  },
  {
   "cell_type": "markdown",
   "metadata": {},
   "source": [
    "### Import"
   ]
  },
  {
   "cell_type": "code",
   "execution_count": 1,
   "metadata": {},
   "outputs": [],
   "source": [
    "import logging\n",
    "from datetime import datetime\n",
    "\n",
    "from cesnet_tszoo.utils.enums import AgreggationType, SourceType, TimeFormat\n",
    "from cesnet_tszoo.datasets import CESNET_TimeSeries24\n",
    "from cesnet_tszoo.configs import SeriesBasedConfig # Series based dataset MUST use SeriesBasedConfig"
   ]
  },
  {
   "cell_type": "markdown",
   "metadata": {},
   "source": [
    "### Setting logger"
   ]
  },
  {
   "cell_type": "code",
   "execution_count": 2,
   "metadata": {},
   "outputs": [],
   "source": [
    "logging.basicConfig(\n",
    "    level=logging.INFO,\n",
    "    format=\"[%(asctime)s][%(name)s][%(levelname)s] - %(message)s\")"
   ]
  },
  {
   "cell_type": "markdown",
   "metadata": {},
   "source": [
    "### Preparing dataset"
   ]
  },
  {
   "cell_type": "code",
   "execution_count": 3,
   "metadata": {},
   "outputs": [
    {
     "name": "stderr",
     "output_type": "stream",
     "text": [
      "[2025-04-09 11:44:59,762][wrapper_dataset][INFO] - Dataset is series-based. Use cesnet_tszoo.configs.SeriesBasedConfig\n"
     ]
    },
    {
     "name": "stdout",
     "output_type": "stream",
     "text": [
      "\n",
      "Dataset details:\n",
      "\n",
      "    AgreggationType.AGG_1_HOUR\n",
      "        Time indices: range(0, 6717)\n",
      "        Datetime: (datetime.datetime(2023, 10, 9, 0, 0, tzinfo=datetime.timezone.utc), datetime.datetime(2024, 7, 14, 21, 0, tzinfo=datetime.timezone.utc))\n",
      "\n",
      "    SourceType.INSTITUTION_SUBNETS\n",
      "        Time series indices: [0 1 2 3 4 ... 543 544 545 546 547], Length=548; use 'get_available_ts_indices' for full list\n",
      "        Features with default values: {'n_flows': 0, 'n_packets': 0, 'n_bytes': 0, 'tcp_udp_ratio_packets': 0.5, 'tcp_udp_ratio_bytes': 0.5, 'dir_ratio_packets': 0.5, 'dir_ratio_bytes': 0.5, 'avg_duration': 0, 'avg_ttl': 0, 'sum_n_dest_asn': 0, 'avg_n_dest_asn': 0, 'std_n_dest_asn': 0, 'sum_n_dest_ports': 0, 'avg_n_dest_ports': 0, 'std_n_dest_ports': 0, 'sum_n_dest_ip': 0, 'avg_n_dest_ip': 0, 'std_n_dest_ip': 0}\n",
      "        \n",
      "        Additional data: ['ids_relationship', 'weekends_and_holidays']\n",
      "        \n"
     ]
    }
   ],
   "source": [
    "series_based_dataset = CESNET_TimeSeries24.get_dataset(data_root=\"/some_directory/\", source_type=SourceType.INSTITUTION_SUBNETS, aggregation=AgreggationType.AGG_1_HOUR, is_series_based=True, display_details=True)"
   ]
  },
  {
   "cell_type": "markdown",
   "metadata": {},
   "source": [
    "### Selecting time period"
   ]
  },
  {
   "cell_type": "markdown",
   "metadata": {},
   "source": [
    "- `time_period` sets time period for all sets (used time series)."
   ]
  },
  {
   "cell_type": "markdown",
   "metadata": {},
   "source": [
    "#### Setting time period as \"all\""
   ]
  },
  {
   "cell_type": "markdown",
   "metadata": {},
   "source": [
    "- Sets time period for time series as a whole time period from dataset."
   ]
  },
  {
   "cell_type": "code",
   "execution_count": 4,
   "metadata": {},
   "outputs": [
    {
     "name": "stderr",
     "output_type": "stream",
     "text": [
      "[2025-04-09 11:44:59,767][config][INFO] - Quick validation succeeded.\n",
      "[2025-04-09 11:44:59,774][config][INFO] - Using all time series for all_ts because train_ts, val_ts, and test_ts are all set to None.\n",
      "[2025-04-09 11:44:59,780][config][INFO] - Finalization and validation completed successfully.\n",
      "[2025-04-09 11:44:59,785][cesnet_dataset][INFO] - Updating config on train/val/test/all and selected time period.\n",
      "100%|██████████| 548/548 [00:00<00:00, 721.07it/s]\n",
      "[2025-04-09 11:45:00,567][cesnet_dataset][INFO] - Dataset initialization complete. Configuration updated.\n",
      "[2025-04-09 11:45:00,567][cesnet_dataset][INFO] - Config initialized successfully.\n"
     ]
    },
    {
     "name": "stdout",
     "output_type": "stream",
     "text": [
      "\n",
      "Config Details:\n",
      "    Used for database: CESNET-TimeSeries24\n",
      "    Aggregation: AgreggationType.AGG_1_HOUR\n",
      "    Source: SourceType.INSTITUTION_SUBNETS\n",
      "\n",
      "    Time series\n",
      "        Train time series IDS: None\n",
      "        Val time series IDS: None\n",
      "        Test time series IDS None\n",
      "        All time series IDS [0 1 2 3 4 ... 543 544 545 546 547], Length=548\n",
      "    Time periods\n",
      "        Time period: range(0, 6718)\n",
      "    Features\n",
      "        Taken features: ['n_flows', 'n_packets', 'n_bytes', 'sum_n_dest_asn', 'avg_n_dest_asn', 'std_n_dest_asn', 'sum_n_dest_ports', 'avg_n_dest_ports', 'std_n_dest_ports', 'sum_n_dest_ip', 'avg_n_dest_ip', 'std_n_dest_ip', 'tcp_udp_ratio_packets', 'tcp_udp_ratio_bytes', 'dir_ratio_packets', 'dir_ratio_bytes', 'avg_duration', 'avg_ttl']\n",
      "        Default values: [0.  0.  0.  0.  0.  0.  0.  0.  0.  0.  0.  0.  0.5 0.5 0.5 0.5 0.  0. ]\n",
      "        Time series ID included: True\n",
      "        Time included: True    \n",
      "        Time format: TimeFormat.ID_TIME\n",
      "    Fillers         \n",
      "        Filler type: None\n",
      "    Scalers\n",
      "        Scaler type: None\n",
      "    Batch sizes\n",
      "        Train batch size: 32\n",
      "        Val batch size: 64\n",
      "        Test batch size: 128\n",
      "        All batch size: 128\n",
      "    Default workers\n",
      "        Train worker count: 4\n",
      "        Val worker count: 3\n",
      "        Test worker count: 2\n",
      "        All worker count: 4\n",
      "        Init worker count: 4\n",
      "    Other\n",
      "        Nan threshold: 1.0\n",
      "        Random state: None\n",
      "        Train dataloader order DataloaderOrder.SEQUENTIAL\n",
      "                \n"
     ]
    }
   ],
   "source": [
    "config = SeriesBasedConfig(time_period=\"all\")\n",
    "series_based_dataset.set_dataset_config_and_initialize(config, display_config_details=True, workers=0)"
   ]
  },
  {
   "cell_type": "markdown",
   "metadata": {},
   "source": [
    "#### Setting time period with time indices"
   ]
  },
  {
   "cell_type": "markdown",
   "metadata": {},
   "source": [
    "- Sets time period for time series as range of time indices."
   ]
  },
  {
   "cell_type": "code",
   "execution_count": 5,
   "metadata": {},
   "outputs": [
    {
     "name": "stderr",
     "output_type": "stream",
     "text": [
      "[2025-04-09 11:45:00,573][config][INFO] - Quick validation succeeded.\n",
      "[2025-04-09 11:45:00,579][config][INFO] - Using all time series for all_ts because train_ts, val_ts, and test_ts are all set to None.\n",
      "[2025-04-09 11:45:00,584][config][INFO] - Finalization and validation completed successfully.\n",
      "[2025-04-09 11:45:00,588][cesnet_dataset][INFO] - Updating config on train/val/test/all and selected time period.\n",
      "100%|██████████| 548/548 [00:00<00:00, 1707.81it/s]\n",
      "[2025-04-09 11:45:00,930][cesnet_dataset][INFO] - Dataset initialization complete. Configuration updated.\n",
      "[2025-04-09 11:45:00,931][cesnet_dataset][INFO] - Config initialized successfully.\n"
     ]
    },
    {
     "name": "stdout",
     "output_type": "stream",
     "text": [
      "\n",
      "Config Details:\n",
      "    Used for database: CESNET-TimeSeries24\n",
      "    Aggregation: AgreggationType.AGG_1_HOUR\n",
      "    Source: SourceType.INSTITUTION_SUBNETS\n",
      "\n",
      "    Time series\n",
      "        Train time series IDS: None\n",
      "        Val time series IDS: None\n",
      "        Test time series IDS None\n",
      "        All time series IDS [0 1 2 3 4 ... 543 544 545 546 547], Length=548\n",
      "    Time periods\n",
      "        Time period: range(0, 2000)\n",
      "    Features\n",
      "        Taken features: ['n_flows', 'n_packets', 'n_bytes', 'sum_n_dest_asn', 'avg_n_dest_asn', 'std_n_dest_asn', 'sum_n_dest_ports', 'avg_n_dest_ports', 'std_n_dest_ports', 'sum_n_dest_ip', 'avg_n_dest_ip', 'std_n_dest_ip', 'tcp_udp_ratio_packets', 'tcp_udp_ratio_bytes', 'dir_ratio_packets', 'dir_ratio_bytes', 'avg_duration', 'avg_ttl']\n",
      "        Default values: [0.  0.  0.  0.  0.  0.  0.  0.  0.  0.  0.  0.  0.5 0.5 0.5 0.5 0.  0. ]\n",
      "        Time series ID included: True\n",
      "        Time included: True    \n",
      "        Time format: TimeFormat.ID_TIME\n",
      "    Fillers         \n",
      "        Filler type: None\n",
      "    Scalers\n",
      "        Scaler type: None\n",
      "    Batch sizes\n",
      "        Train batch size: 32\n",
      "        Val batch size: 64\n",
      "        Test batch size: 128\n",
      "        All batch size: 128\n",
      "    Default workers\n",
      "        Train worker count: 4\n",
      "        Val worker count: 3\n",
      "        Test worker count: 2\n",
      "        All worker count: 4\n",
      "        Init worker count: 4\n",
      "    Other\n",
      "        Nan threshold: 1.0\n",
      "        Random state: None\n",
      "        Train dataloader order DataloaderOrder.SEQUENTIAL\n",
      "                \n"
     ]
    }
   ],
   "source": [
    "config = SeriesBasedConfig(time_period=range(0, 2000))\n",
    "series_based_dataset.set_dataset_config_and_initialize(config, display_config_details=True, workers=0)"
   ]
  },
  {
   "cell_type": "markdown",
   "metadata": {},
   "source": [
    "#### Setting time period with datetime"
   ]
  },
  {
   "cell_type": "markdown",
   "metadata": {},
   "source": [
    "- Sets time period for time series with tuple of datetime objects.\n",
    "- Datetime objects are expected to be of UTC."
   ]
  },
  {
   "cell_type": "code",
   "execution_count": 6,
   "metadata": {},
   "outputs": [
    {
     "name": "stderr",
     "output_type": "stream",
     "text": [
      "[2025-04-09 11:45:00,936][config][INFO] - Quick validation succeeded.\n",
      "[2025-04-09 11:45:00,943][config][INFO] - Using all time series for all_ts because train_ts, val_ts, and test_ts are all set to None.\n",
      "[2025-04-09 11:45:00,944][config][INFO] - Finalization and validation completed successfully.\n",
      "[2025-04-09 11:45:00,948][cesnet_dataset][INFO] - Updating config on train/val/test/all and selected time period.\n",
      "100%|██████████| 548/548 [00:00<00:00, 2065.67it/s]\n",
      "[2025-04-09 11:45:01,235][cesnet_dataset][INFO] - Dataset initialization complete. Configuration updated.\n",
      "[2025-04-09 11:45:01,235][cesnet_dataset][INFO] - Config initialized successfully.\n"
     ]
    },
    {
     "name": "stdout",
     "output_type": "stream",
     "text": [
      "\n",
      "Config Details:\n",
      "    Used for database: CESNET-TimeSeries24\n",
      "    Aggregation: AgreggationType.AGG_1_HOUR\n",
      "    Source: SourceType.INSTITUTION_SUBNETS\n",
      "\n",
      "    Time series\n",
      "        Train time series IDS: None\n",
      "        Val time series IDS: None\n",
      "        Test time series IDS None\n",
      "        All time series IDS [0 1 2 3 4 ... 543 544 545 546 547], Length=548\n",
      "    Time periods\n",
      "        Time period: range(0, 767)\n",
      "    Features\n",
      "        Taken features: ['n_flows', 'n_packets', 'n_bytes', 'sum_n_dest_asn', 'avg_n_dest_asn', 'std_n_dest_asn', 'sum_n_dest_ports', 'avg_n_dest_ports', 'std_n_dest_ports', 'sum_n_dest_ip', 'avg_n_dest_ip', 'std_n_dest_ip', 'tcp_udp_ratio_packets', 'tcp_udp_ratio_bytes', 'dir_ratio_packets', 'dir_ratio_bytes', 'avg_duration', 'avg_ttl']\n",
      "        Default values: [0.  0.  0.  0.  0.  0.  0.  0.  0.  0.  0.  0.  0.5 0.5 0.5 0.5 0.  0. ]\n",
      "        Time series ID included: True\n",
      "        Time included: True    \n",
      "        Time format: TimeFormat.ID_TIME\n",
      "    Fillers         \n",
      "        Filler type: None\n",
      "    Scalers\n",
      "        Scaler type: None\n",
      "    Batch sizes\n",
      "        Train batch size: 32\n",
      "        Val batch size: 64\n",
      "        Test batch size: 128\n",
      "        All batch size: 128\n",
      "    Default workers\n",
      "        Train worker count: 4\n",
      "        Val worker count: 3\n",
      "        Test worker count: 2\n",
      "        All worker count: 4\n",
      "        Init worker count: 4\n",
      "    Other\n",
      "        Nan threshold: 1.0\n",
      "        Random state: None\n",
      "        Train dataloader order DataloaderOrder.SEQUENTIAL\n",
      "                \n"
     ]
    }
   ],
   "source": [
    "config = SeriesBasedConfig(time_period=(datetime(2023, 10, 9, 0), datetime(2023, 11, 9, 23)))\n",
    "series_based_dataset.set_dataset_config_and_initialize(config, display_config_details=True, workers=0)"
   ]
  },
  {
   "cell_type": "markdown",
   "metadata": {},
   "source": [
    "#### Setting time period with percentage"
   ]
  },
  {
   "cell_type": "markdown",
   "metadata": {},
   "source": [
    "- Sets time period for time series as a percentage of whole time period from dataset.\n",
    "- Always starts from first time.\n",
    "- Must be: 0 < `time_period` <= 1."
   ]
  },
  {
   "cell_type": "code",
   "execution_count": 7,
   "metadata": {},
   "outputs": [
    {
     "name": "stderr",
     "output_type": "stream",
     "text": [
      "[2025-04-09 11:45:01,241][config][INFO] - Quick validation succeeded.\n",
      "[2025-04-09 11:45:01,249][config][INFO] - Using all time series for all_ts because train_ts, val_ts, and test_ts are all set to None.\n",
      "[2025-04-09 11:45:01,254][config][INFO] - Finalization and validation completed successfully.\n",
      "[2025-04-09 11:45:01,258][cesnet_dataset][INFO] - Updating config on train/val/test/all and selected time period.\n",
      "100%|██████████| 548/548 [00:00<00:00, 1423.26it/s]\n",
      "[2025-04-09 11:45:01,664][cesnet_dataset][INFO] - Dataset initialization complete. Configuration updated.\n",
      "[2025-04-09 11:45:01,665][cesnet_dataset][INFO] - Config initialized successfully.\n"
     ]
    },
    {
     "name": "stdout",
     "output_type": "stream",
     "text": [
      "\n",
      "Config Details:\n",
      "    Used for database: CESNET-TimeSeries24\n",
      "    Aggregation: AgreggationType.AGG_1_HOUR\n",
      "    Source: SourceType.INSTITUTION_SUBNETS\n",
      "\n",
      "    Time series\n",
      "        Train time series IDS: None\n",
      "        Val time series IDS: None\n",
      "        Test time series IDS None\n",
      "        All time series IDS [0 1 2 3 4 ... 543 544 545 546 547], Length=548\n",
      "    Time periods\n",
      "        Time period: range(0, 3359)\n",
      "    Features\n",
      "        Taken features: ['n_flows', 'n_packets', 'n_bytes', 'sum_n_dest_asn', 'avg_n_dest_asn', 'std_n_dest_asn', 'sum_n_dest_ports', 'avg_n_dest_ports', 'std_n_dest_ports', 'sum_n_dest_ip', 'avg_n_dest_ip', 'std_n_dest_ip', 'tcp_udp_ratio_packets', 'tcp_udp_ratio_bytes', 'dir_ratio_packets', 'dir_ratio_bytes', 'avg_duration', 'avg_ttl']\n",
      "        Default values: [0.  0.  0.  0.  0.  0.  0.  0.  0.  0.  0.  0.  0.5 0.5 0.5 0.5 0.  0. ]\n",
      "        Time series ID included: True\n",
      "        Time included: True    \n",
      "        Time format: TimeFormat.ID_TIME\n",
      "    Fillers         \n",
      "        Filler type: None\n",
      "    Scalers\n",
      "        Scaler type: None\n",
      "    Batch sizes\n",
      "        Train batch size: 32\n",
      "        Val batch size: 64\n",
      "        Test batch size: 128\n",
      "        All batch size: 128\n",
      "    Default workers\n",
      "        Train worker count: 4\n",
      "        Val worker count: 3\n",
      "        Test worker count: 2\n",
      "        All worker count: 4\n",
      "        Init worker count: 4\n",
      "    Other\n",
      "        Nan threshold: 1.0\n",
      "        Random state: None\n",
      "        Train dataloader order DataloaderOrder.SEQUENTIAL\n",
      "                \n"
     ]
    }
   ],
   "source": [
    "config = SeriesBasedConfig(time_period=0.5)\n",
    "series_based_dataset.set_dataset_config_and_initialize(config, display_config_details=True, workers=0)"
   ]
  },
  {
   "cell_type": "markdown",
   "metadata": {},
   "source": [
    "### Creating train/val/test sets"
   ]
  },
  {
   "cell_type": "markdown",
   "metadata": {},
   "source": [
    "- Sets how many time series will be in each set.\n",
    "- You can leave any set value set as None.\n",
    "- Can use `nan_threshold` to set how many nan values will be tolerated.\n",
    "    - `nan_threshold` = 1.0, means that time series can be completely empty.\n",
    "    - is applied after sets."
   ]
  },
  {
   "cell_type": "markdown",
   "metadata": {},
   "source": [
    "#### Setting sets with count of time series"
   ]
  },
  {
   "cell_type": "markdown",
   "metadata": {},
   "source": [
    "- Sets time series in set with count.\n",
    "- Each set will contain unique time series.\n",
    "- Count must be greater than zero.\n",
    "- Total sum of time series in sets must be smaller than number of time series in dataset.\n",
    "- Is affected by `random_state`.\n",
    "    - When `random_state` is set, sets will contain same time series."
   ]
  },
  {
   "cell_type": "code",
   "execution_count": 8,
   "metadata": {},
   "outputs": [
    {
     "name": "stderr",
     "output_type": "stream",
     "text": [
      "[2025-04-09 11:45:01,670][config][INFO] - Quick validation succeeded.\n",
      "[2025-04-09 11:45:01,692][config][INFO] - Finalization and validation completed successfully.\n",
      "[2025-04-09 11:45:01,697][cesnet_dataset][INFO] - Updating config on train/val/test/all and selected time period.\n",
      "100%|██████████| 89/89 [00:00<00:00, 1041.75it/s]\n",
      "[2025-04-09 11:45:01,791][cesnet_dataset][INFO] - Dataset initialization complete. Configuration updated.\n",
      "[2025-04-09 11:45:01,792][cesnet_dataset][INFO] - Config initialized successfully.\n"
     ]
    },
    {
     "name": "stdout",
     "output_type": "stream",
     "text": [
      "\n",
      "Config Details:\n",
      "    Used for database: CESNET-TimeSeries24\n",
      "    Aggregation: AgreggationType.AGG_1_HOUR\n",
      "    Source: SourceType.INSTITUTION_SUBNETS\n",
      "\n",
      "    Time series\n",
      "        Train time series IDS: [ 69  66 395  23   9 ... 135 244 376  50 107], Length=54\n",
      "        Val time series IDS: [ 32 258  10  91 533 ... 494 224 140 473 472], Length=25\n",
      "        Test time series IDS [109 300 327 362 271 160 115 232 468 119], Length=10\n",
      "        All time series IDS [ 69  66 395  23   9 ... 160 115 232 468 119], Length=89\n",
      "    Time periods\n",
      "        Time period: range(0, 3359)\n",
      "    Features\n",
      "        Taken features: ['n_flows', 'n_packets', 'n_bytes', 'sum_n_dest_asn', 'avg_n_dest_asn', 'std_n_dest_asn', 'sum_n_dest_ports', 'avg_n_dest_ports', 'std_n_dest_ports', 'sum_n_dest_ip', 'avg_n_dest_ip', 'std_n_dest_ip', 'tcp_udp_ratio_packets', 'tcp_udp_ratio_bytes', 'dir_ratio_packets', 'dir_ratio_bytes', 'avg_duration', 'avg_ttl']\n",
      "        Default values: [0.  0.  0.  0.  0.  0.  0.  0.  0.  0.  0.  0.  0.5 0.5 0.5 0.5 0.  0. ]\n",
      "        Time series ID included: True\n",
      "        Time included: True    \n",
      "        Time format: TimeFormat.ID_TIME\n",
      "    Fillers         \n",
      "        Filler type: None\n",
      "    Scalers\n",
      "        Scaler type: None\n",
      "    Batch sizes\n",
      "        Train batch size: 32\n",
      "        Val batch size: 64\n",
      "        Test batch size: 128\n",
      "        All batch size: 128\n",
      "    Default workers\n",
      "        Train worker count: 4\n",
      "        Val worker count: 3\n",
      "        Test worker count: 2\n",
      "        All worker count: 4\n",
      "        Init worker count: 4\n",
      "    Other\n",
      "        Nan threshold: 1.0\n",
      "        Random state: None\n",
      "        Train dataloader order DataloaderOrder.SEQUENTIAL\n",
      "                \n"
     ]
    }
   ],
   "source": [
    "config = SeriesBasedConfig(time_period=0.5, train_ts=54, val_ts=25, test_ts=10, random_state=None, nan_threshold=1.0)\n",
    "series_based_dataset.set_dataset_config_and_initialize(config, display_config_details=True, workers=0)"
   ]
  },
  {
   "cell_type": "markdown",
   "metadata": {},
   "source": [
    "#### Setting sets with percentage of time series in dataset"
   ]
  },
  {
   "cell_type": "markdown",
   "metadata": {},
   "source": [
    "- Sets time series in set with percentage of time series in dataset.\n",
    "- Each set will contain unique time series.\n",
    "- Percentage must be greater than 0.\n",
    "- Total sum of set percentages must be smaller or equal to 1.0.\n",
    "- Is affected by `random_state`.\n",
    "    - When `random_state` is set, sets will contain same time series."
   ]
  },
  {
   "cell_type": "code",
   "execution_count": 9,
   "metadata": {},
   "outputs": [
    {
     "name": "stderr",
     "output_type": "stream",
     "text": [
      "[2025-04-09 11:45:01,797][config][INFO] - Quick validation succeeded.\n",
      "[2025-04-09 11:45:01,810][config][INFO] - Finalization and validation completed successfully.\n",
      "[2025-04-09 11:45:01,814][cesnet_dataset][INFO] - Updating config on train/val/test/all and selected time period.\n",
      "100%|██████████| 437/437 [00:00<00:00, 1241.45it/s]\n",
      "[2025-04-09 11:45:02,185][cesnet_dataset][INFO] - Dataset initialization complete. Configuration updated.\n",
      "[2025-04-09 11:45:02,185][cesnet_dataset][INFO] - Config initialized successfully.\n"
     ]
    },
    {
     "name": "stdout",
     "output_type": "stream",
     "text": [
      "\n",
      "Config Details:\n",
      "    Used for database: CESNET-TimeSeries24\n",
      "    Aggregation: AgreggationType.AGG_1_HOUR\n",
      "    Source: SourceType.INSTITUTION_SUBNETS\n",
      "\n",
      "    Time series\n",
      "        Train time series IDS: [544   6 359 340  60 ... 284 341  13 196 102], Length=274\n",
      "        Val time series IDS: [353 294 114 421 218 ... 453 310 518 355  51], Length=109\n",
      "        Test time series IDS [475 423 354 167 286 ... 287  47 168 261 329], Length=54\n",
      "        All time series IDS [544   6 359 340  60 ... 287  47 168 261 329], Length=437\n",
      "    Time periods\n",
      "        Time period: range(0, 3359)\n",
      "    Features\n",
      "        Taken features: ['n_flows', 'n_packets', 'n_bytes', 'sum_n_dest_asn', 'avg_n_dest_asn', 'std_n_dest_asn', 'sum_n_dest_ports', 'avg_n_dest_ports', 'std_n_dest_ports', 'sum_n_dest_ip', 'avg_n_dest_ip', 'std_n_dest_ip', 'tcp_udp_ratio_packets', 'tcp_udp_ratio_bytes', 'dir_ratio_packets', 'dir_ratio_bytes', 'avg_duration', 'avg_ttl']\n",
      "        Default values: [0.  0.  0.  0.  0.  0.  0.  0.  0.  0.  0.  0.  0.5 0.5 0.5 0.5 0.  0. ]\n",
      "        Time series ID included: True\n",
      "        Time included: True    \n",
      "        Time format: TimeFormat.ID_TIME\n",
      "    Fillers         \n",
      "        Filler type: None\n",
      "    Scalers\n",
      "        Scaler type: None\n",
      "    Batch sizes\n",
      "        Train batch size: 32\n",
      "        Val batch size: 64\n",
      "        Test batch size: 128\n",
      "        All batch size: 128\n",
      "    Default workers\n",
      "        Train worker count: 4\n",
      "        Val worker count: 3\n",
      "        Test worker count: 2\n",
      "        All worker count: 4\n",
      "        Init worker count: 4\n",
      "    Other\n",
      "        Nan threshold: 1.0\n",
      "        Random state: None\n",
      "        Train dataloader order DataloaderOrder.SEQUENTIAL\n",
      "                \n"
     ]
    }
   ],
   "source": [
    "config = SeriesBasedConfig(time_period=0.5, train_ts=0.5, val_ts=0.2, test_ts=0.1, random_state=None, nan_threshold=1.0)\n",
    "series_based_dataset.set_dataset_config_and_initialize(config, display_config_details=True, workers=0)"
   ]
  },
  {
   "cell_type": "markdown",
   "metadata": {},
   "source": [
    "#### Setting sets with specific time series indices"
   ]
  },
  {
   "cell_type": "markdown",
   "metadata": {},
   "source": [
    "- Each set must have unique time series"
   ]
  },
  {
   "cell_type": "code",
   "execution_count": 10,
   "metadata": {},
   "outputs": [
    {
     "name": "stderr",
     "output_type": "stream",
     "text": [
      "[2025-04-09 11:45:02,191][config][INFO] - Quick validation succeeded.\n",
      "[2025-04-09 11:45:02,201][config][INFO] - Finalization and validation completed successfully.\n",
      "[2025-04-09 11:45:02,205][cesnet_dataset][INFO] - Updating config on train/val/test/all and selected time period.\n",
      "100%|██████████| 15/15 [00:00<00:00, 1345.05it/s]\n",
      "[2025-04-09 11:45:02,218][cesnet_dataset][INFO] - Dataset initialization complete. Configuration updated.\n",
      "[2025-04-09 11:45:02,219][cesnet_dataset][INFO] - Config initialized successfully.\n"
     ]
    },
    {
     "name": "stdout",
     "output_type": "stream",
     "text": [
      "\n",
      "Config Details:\n",
      "    Used for database: CESNET-TimeSeries24\n",
      "    Aggregation: AgreggationType.AGG_1_HOUR\n",
      "    Source: SourceType.INSTITUTION_SUBNETS\n",
      "\n",
      "    Time series\n",
      "        Train time series IDS: [0 1 2 3 4], Length=5\n",
      "        Val time series IDS: [5 6 7 8 9], Length=5\n",
      "        Test time series IDS [10 11 12 13 14], Length=5\n",
      "        All time series IDS [0 1 2 3 4 ... 10 11 12 13 14], Length=15\n",
      "    Time periods\n",
      "        Time period: range(0, 3359)\n",
      "    Features\n",
      "        Taken features: ['n_flows', 'n_packets', 'n_bytes', 'sum_n_dest_asn', 'avg_n_dest_asn', 'std_n_dest_asn', 'sum_n_dest_ports', 'avg_n_dest_ports', 'std_n_dest_ports', 'sum_n_dest_ip', 'avg_n_dest_ip', 'std_n_dest_ip', 'tcp_udp_ratio_packets', 'tcp_udp_ratio_bytes', 'dir_ratio_packets', 'dir_ratio_bytes', 'avg_duration', 'avg_ttl']\n",
      "        Default values: [0.  0.  0.  0.  0.  0.  0.  0.  0.  0.  0.  0.  0.5 0.5 0.5 0.5 0.  0. ]\n",
      "        Time series ID included: True\n",
      "        Time included: True    \n",
      "        Time format: TimeFormat.ID_TIME\n",
      "    Fillers         \n",
      "        Filler type: None\n",
      "    Scalers\n",
      "        Scaler type: None\n",
      "    Batch sizes\n",
      "        Train batch size: 32\n",
      "        Val batch size: 64\n",
      "        Test batch size: 128\n",
      "        All batch size: 128\n",
      "    Default workers\n",
      "        Train worker count: 4\n",
      "        Val worker count: 3\n",
      "        Test worker count: 2\n",
      "        All worker count: 4\n",
      "        Init worker count: 4\n",
      "    Other\n",
      "        Nan threshold: 1.0\n",
      "        Random state: None\n",
      "        Train dataloader order DataloaderOrder.SEQUENTIAL\n",
      "                \n"
     ]
    }
   ],
   "source": [
    "config = SeriesBasedConfig(time_period=0.5, train_ts=[0,1,2,3,4], val_ts=[5,6,7,8,9], test_ts=[10,11,12,13,14], nan_threshold=1.0)\n",
    "series_based_dataset.set_dataset_config_and_initialize(config, display_config_details=True, workers=0)"
   ]
  },
  {
   "cell_type": "markdown",
   "metadata": {},
   "source": [
    "### Selecting features"
   ]
  },
  {
   "cell_type": "markdown",
   "metadata": {},
   "source": [
    "- Affects which features will be returned when loading data.\n",
    "- Setting `include_time` as True will add time to features that return when loading data.\n",
    "- Setting `include_ts_id` as True will add time series id to features that return when loading data."
   ]
  },
  {
   "cell_type": "markdown",
   "metadata": {},
   "source": [
    "#### Setting features to take as \"all\""
   ]
  },
  {
   "cell_type": "code",
   "execution_count": 11,
   "metadata": {},
   "outputs": [
    {
     "name": "stderr",
     "output_type": "stream",
     "text": [
      "[2025-04-09 11:45:02,225][config][INFO] - Quick validation succeeded.\n",
      "[2025-04-09 11:45:02,236][config][INFO] - Finalization and validation completed successfully.\n",
      "[2025-04-09 11:45:02,239][cesnet_dataset][INFO] - Updating config on train/val/test/all and selected time period.\n",
      "100%|██████████| 89/89 [00:00<00:00, 1139.53it/s]\n",
      "[2025-04-09 11:45:02,324][cesnet_dataset][INFO] - Dataset initialization complete. Configuration updated.\n",
      "[2025-04-09 11:45:02,325][cesnet_dataset][INFO] - Config initialized successfully.\n"
     ]
    },
    {
     "name": "stdout",
     "output_type": "stream",
     "text": [
      "\n",
      "Config Details:\n",
      "    Used for database: CESNET-TimeSeries24\n",
      "    Aggregation: AgreggationType.AGG_1_HOUR\n",
      "    Source: SourceType.INSTITUTION_SUBNETS\n",
      "\n",
      "    Time series\n",
      "        Train time series IDS: [186 213 178 127  25 ...  37 501 466 513 175], Length=54\n",
      "        Val time series IDS: [174 538 128 145 391 ... 266 455  95 207 523], Length=25\n",
      "        Test time series IDS [105  22 179 218  11 527 139  44  38 232], Length=10\n",
      "        All time series IDS [186 213 178 127  25 ... 527 139  44  38 232], Length=89\n",
      "    Time periods\n",
      "        Time period: range(0, 3359)\n",
      "    Features\n",
      "        Taken features: ['n_flows', 'n_packets', 'n_bytes', 'sum_n_dest_asn', 'avg_n_dest_asn', 'std_n_dest_asn', 'sum_n_dest_ports', 'avg_n_dest_ports', 'std_n_dest_ports', 'sum_n_dest_ip', 'avg_n_dest_ip', 'std_n_dest_ip', 'tcp_udp_ratio_packets', 'tcp_udp_ratio_bytes', 'dir_ratio_packets', 'dir_ratio_bytes', 'avg_duration', 'avg_ttl']\n",
      "        Default values: [0.  0.  0.  0.  0.  0.  0.  0.  0.  0.  0.  0.  0.5 0.5 0.5 0.5 0.  0. ]\n",
      "        Time series ID included: True\n",
      "        Time included: True    \n",
      "        Time format: TimeFormat.ID_TIME\n",
      "    Fillers         \n",
      "        Filler type: None\n",
      "    Scalers\n",
      "        Scaler type: None\n",
      "    Batch sizes\n",
      "        Train batch size: 32\n",
      "        Val batch size: 64\n",
      "        Test batch size: 128\n",
      "        All batch size: 128\n",
      "    Default workers\n",
      "        Train worker count: 4\n",
      "        Val worker count: 3\n",
      "        Test worker count: 2\n",
      "        All worker count: 4\n",
      "        Init worker count: 4\n",
      "    Other\n",
      "        Nan threshold: 1.0\n",
      "        Random state: None\n",
      "        Train dataloader order DataloaderOrder.SEQUENTIAL\n",
      "                \n"
     ]
    }
   ],
   "source": [
    "config = SeriesBasedConfig(time_period=0.5, train_ts=54, val_ts=25, test_ts=10, features_to_take=\"all\")\n",
    "series_based_dataset.set_dataset_config_and_initialize(config, display_config_details=True, workers=0)"
   ]
  },
  {
   "cell_type": "markdown",
   "metadata": {},
   "source": [
    "#### Setting features via list"
   ]
  },
  {
   "cell_type": "code",
   "execution_count": 12,
   "metadata": {},
   "outputs": [
    {
     "name": "stderr",
     "output_type": "stream",
     "text": [
      "[2025-04-09 11:45:02,330][config][INFO] - Quick validation succeeded.\n",
      "[2025-04-09 11:45:02,342][config][INFO] - Finalization and validation completed successfully.\n",
      "[2025-04-09 11:45:02,346][cesnet_dataset][INFO] - Updating config on train/val/test/all and selected time period.\n",
      "100%|██████████| 89/89 [00:00<00:00, 1282.05it/s]\n",
      "[2025-04-09 11:45:02,423][cesnet_dataset][INFO] - Dataset initialization complete. Configuration updated.\n",
      "[2025-04-09 11:45:02,423][cesnet_dataset][INFO] - Config initialized successfully.\n"
     ]
    },
    {
     "name": "stdout",
     "output_type": "stream",
     "text": [
      "\n",
      "Config Details:\n",
      "    Used for database: CESNET-TimeSeries24\n",
      "    Aggregation: AgreggationType.AGG_1_HOUR\n",
      "    Source: SourceType.INSTITUTION_SUBNETS\n",
      "\n",
      "    Time series\n",
      "        Train time series IDS: [230 373 193 136 113 ... 209  71 190  24 163], Length=54\n",
      "        Val time series IDS: [453 138  12 353  90 ... 294 482 213 519 481], Length=25\n",
      "        Test time series IDS [464 150 178 259  91 269 426 147 446 107], Length=10\n",
      "        All time series IDS [230 373 193 136 113 ... 269 426 147 446 107], Length=89\n",
      "    Time periods\n",
      "        Time period: range(0, 3359)\n",
      "    Features\n",
      "        Taken features: ['n_flows', 'n_packets']\n",
      "        Default values: [0. 0.]\n",
      "        Time series ID included: True\n",
      "        Time included: True    \n",
      "        Time format: TimeFormat.ID_TIME\n",
      "    Fillers         \n",
      "        Filler type: None\n",
      "    Scalers\n",
      "        Scaler type: None\n",
      "    Batch sizes\n",
      "        Train batch size: 32\n",
      "        Val batch size: 64\n",
      "        Test batch size: 128\n",
      "        All batch size: 128\n",
      "    Default workers\n",
      "        Train worker count: 4\n",
      "        Val worker count: 3\n",
      "        Test worker count: 2\n",
      "        All worker count: 4\n",
      "        Init worker count: 4\n",
      "    Other\n",
      "        Nan threshold: 1.0\n",
      "        Random state: None\n",
      "        Train dataloader order DataloaderOrder.SEQUENTIAL\n",
      "                \n"
     ]
    }
   ],
   "source": [
    "config = SeriesBasedConfig(time_period=0.5, train_ts=54, val_ts=25, test_ts=10, features_to_take=[\"n_flows\", \"n_packets\"])\n",
    "series_based_dataset.set_dataset_config_and_initialize(config, display_config_details=True, workers=0)"
   ]
  },
  {
   "cell_type": "markdown",
   "metadata": {},
   "source": [
    "#### Including time and time series id"
   ]
  },
  {
   "cell_type": "code",
   "execution_count": 13,
   "metadata": {},
   "outputs": [
    {
     "name": "stderr",
     "output_type": "stream",
     "text": [
      "[2025-04-09 11:45:02,429][config][INFO] - Quick validation succeeded.\n",
      "[2025-04-09 11:45:02,440][config][INFO] - Finalization and validation completed successfully.\n",
      "[2025-04-09 11:45:02,445][cesnet_dataset][INFO] - Updating config on train/val/test/all and selected time period.\n",
      "100%|██████████| 89/89 [00:00<00:00, 1374.21it/s]\n",
      "[2025-04-09 11:45:02,517][cesnet_dataset][INFO] - Dataset initialization complete. Configuration updated.\n",
      "[2025-04-09 11:45:02,518][cesnet_dataset][INFO] - Config initialized successfully.\n"
     ]
    },
    {
     "name": "stdout",
     "output_type": "stream",
     "text": [
      "\n",
      "Config Details:\n",
      "    Used for database: CESNET-TimeSeries24\n",
      "    Aggregation: AgreggationType.AGG_1_HOUR\n",
      "    Source: SourceType.INSTITUTION_SUBNETS\n",
      "\n",
      "    Time series\n",
      "        Train time series IDS: [363 458 394 260 503 ...  92  95 324 504 162], Length=54\n",
      "        Val time series IDS: [429 116 181  44 168 ...  61 190 491 199 236], Length=25\n",
      "        Test time series IDS [410 379 294 250 286 369 128 185 113 381], Length=10\n",
      "        All time series IDS [363 458 394 260 503 ... 369 128 185 113 381], Length=89\n",
      "    Time periods\n",
      "        Time period: range(0, 3359)\n",
      "    Features\n",
      "        Taken features: ['n_flows', 'n_packets']\n",
      "        Default values: [0. 0.]\n",
      "        Time series ID included: True\n",
      "        Time included: True    \n",
      "        Time format: TimeFormat.ID_TIME\n",
      "    Fillers         \n",
      "        Filler type: None\n",
      "    Scalers\n",
      "        Scaler type: None\n",
      "    Batch sizes\n",
      "        Train batch size: 32\n",
      "        Val batch size: 64\n",
      "        Test batch size: 128\n",
      "        All batch size: 128\n",
      "    Default workers\n",
      "        Train worker count: 4\n",
      "        Val worker count: 3\n",
      "        Test worker count: 2\n",
      "        All worker count: 4\n",
      "        Init worker count: 4\n",
      "    Other\n",
      "        Nan threshold: 1.0\n",
      "        Random state: None\n",
      "        Train dataloader order DataloaderOrder.SEQUENTIAL\n",
      "                \n"
     ]
    }
   ],
   "source": [
    "config = SeriesBasedConfig(time_period=0.5, train_ts=54, val_ts=25, test_ts=10, features_to_take=[\"n_flows\", \"n_packets\"], include_time=True, include_ts_id=True, time_format=TimeFormat.ID_TIME)\n",
    "series_based_dataset.set_dataset_config_and_initialize(config, display_config_details=True, workers=0)"
   ]
  },
  {
   "cell_type": "markdown",
   "metadata": {},
   "source": [
    "### Selecting all set"
   ]
  },
  {
   "cell_type": "markdown",
   "metadata": {},
   "source": [
    "#### All set when other sets are None"
   ]
  },
  {
   "cell_type": "markdown",
   "metadata": {},
   "source": [
    "- All set will contain all time series from dataset."
   ]
  },
  {
   "cell_type": "code",
   "execution_count": 14,
   "metadata": {},
   "outputs": [
    {
     "name": "stderr",
     "output_type": "stream",
     "text": [
      "[2025-04-09 11:45:02,524][config][INFO] - Quick validation succeeded.\n",
      "[2025-04-09 11:45:02,530][config][INFO] - Using all time series for all_ts because train_ts, val_ts, and test_ts are all set to None.\n",
      "[2025-04-09 11:45:02,535][config][INFO] - Finalization and validation completed successfully.\n",
      "[2025-04-09 11:45:02,539][cesnet_dataset][INFO] - Updating config on train/val/test/all and selected time period.\n",
      "100%|██████████| 548/548 [00:00<00:00, 1484.94it/s]\n",
      "[2025-04-09 11:45:02,928][cesnet_dataset][INFO] - Dataset initialization complete. Configuration updated.\n",
      "[2025-04-09 11:45:02,928][cesnet_dataset][INFO] - Config initialized successfully.\n"
     ]
    },
    {
     "name": "stdout",
     "output_type": "stream",
     "text": [
      "\n",
      "Config Details:\n",
      "    Used for database: CESNET-TimeSeries24\n",
      "    Aggregation: AgreggationType.AGG_1_HOUR\n",
      "    Source: SourceType.INSTITUTION_SUBNETS\n",
      "\n",
      "    Time series\n",
      "        Train time series IDS: None\n",
      "        Val time series IDS: None\n",
      "        Test time series IDS None\n",
      "        All time series IDS [0 1 2 3 4 ... 543 544 545 546 547], Length=548\n",
      "    Time periods\n",
      "        Time period: range(0, 3359)\n",
      "    Features\n",
      "        Taken features: ['n_flows', 'n_packets', 'n_bytes', 'sum_n_dest_asn', 'avg_n_dest_asn', 'std_n_dest_asn', 'sum_n_dest_ports', 'avg_n_dest_ports', 'std_n_dest_ports', 'sum_n_dest_ip', 'avg_n_dest_ip', 'std_n_dest_ip', 'tcp_udp_ratio_packets', 'tcp_udp_ratio_bytes', 'dir_ratio_packets', 'dir_ratio_bytes', 'avg_duration', 'avg_ttl']\n",
      "        Default values: [0.  0.  0.  0.  0.  0.  0.  0.  0.  0.  0.  0.  0.5 0.5 0.5 0.5 0.  0. ]\n",
      "        Time series ID included: True\n",
      "        Time included: True    \n",
      "        Time format: TimeFormat.ID_TIME\n",
      "    Fillers         \n",
      "        Filler type: None\n",
      "    Scalers\n",
      "        Scaler type: None\n",
      "    Batch sizes\n",
      "        Train batch size: 32\n",
      "        Val batch size: 64\n",
      "        Test batch size: 128\n",
      "        All batch size: 128\n",
      "    Default workers\n",
      "        Train worker count: 4\n",
      "        Val worker count: 3\n",
      "        Test worker count: 2\n",
      "        All worker count: 4\n",
      "        Init worker count: 4\n",
      "    Other\n",
      "        Nan threshold: 1.0\n",
      "        Random state: None\n",
      "        Train dataloader order DataloaderOrder.SEQUENTIAL\n",
      "                \n"
     ]
    }
   ],
   "source": [
    "config = SeriesBasedConfig(time_period=0.5, train_ts=None, val_ts=None, test_ts=None)\n",
    "series_based_dataset.set_dataset_config_and_initialize(config, display_config_details=True, workers=0)"
   ]
  },
  {
   "cell_type": "markdown",
   "metadata": {},
   "source": [
    "#### All set when at least one other set is not None"
   ]
  },
  {
   "cell_type": "markdown",
   "metadata": {},
   "source": [
    "- All set will contain all time series that were set by other sets."
   ]
  },
  {
   "cell_type": "code",
   "execution_count": 15,
   "metadata": {},
   "outputs": [
    {
     "name": "stderr",
     "output_type": "stream",
     "text": [
      "[2025-04-09 11:45:02,934][config][INFO] - Quick validation succeeded.\n",
      "[2025-04-09 11:45:02,944][config][INFO] - Finalization and validation completed successfully.\n",
      "[2025-04-09 11:45:02,948][cesnet_dataset][INFO] - Updating config on train/val/test/all and selected time period.\n",
      "100%|██████████| 89/89 [00:00<00:00, 1190.02it/s]\n",
      "[2025-04-09 11:45:03,031][cesnet_dataset][INFO] - Dataset initialization complete. Configuration updated.\n",
      "[2025-04-09 11:45:03,031][cesnet_dataset][INFO] - Config initialized successfully.\n"
     ]
    },
    {
     "name": "stdout",
     "output_type": "stream",
     "text": [
      "\n",
      "Config Details:\n",
      "    Used for database: CESNET-TimeSeries24\n",
      "    Aggregation: AgreggationType.AGG_1_HOUR\n",
      "    Source: SourceType.INSTITUTION_SUBNETS\n",
      "\n",
      "    Time series\n",
      "        Train time series IDS: [ 33 196 308  37 463 ... 288 223 424 220 457], Length=54\n",
      "        Val time series IDS: [338 544 173 148 451 ...  54  43 393  11 218], Length=25\n",
      "        Test time series IDS [  9  96 227  31 213 398 527 221 408 515], Length=10\n",
      "        All time series IDS [ 33 196 308  37 463 ... 398 527 221 408 515], Length=89\n",
      "    Time periods\n",
      "        Time period: range(0, 3359)\n",
      "    Features\n",
      "        Taken features: ['n_flows', 'n_packets', 'n_bytes', 'sum_n_dest_asn', 'avg_n_dest_asn', 'std_n_dest_asn', 'sum_n_dest_ports', 'avg_n_dest_ports', 'std_n_dest_ports', 'sum_n_dest_ip', 'avg_n_dest_ip', 'std_n_dest_ip', 'tcp_udp_ratio_packets', 'tcp_udp_ratio_bytes', 'dir_ratio_packets', 'dir_ratio_bytes', 'avg_duration', 'avg_ttl']\n",
      "        Default values: [0.  0.  0.  0.  0.  0.  0.  0.  0.  0.  0.  0.  0.5 0.5 0.5 0.5 0.  0. ]\n",
      "        Time series ID included: True\n",
      "        Time included: True    \n",
      "        Time format: TimeFormat.ID_TIME\n",
      "    Fillers         \n",
      "        Filler type: None\n",
      "    Scalers\n",
      "        Scaler type: None\n",
      "    Batch sizes\n",
      "        Train batch size: 32\n",
      "        Val batch size: 64\n",
      "        Test batch size: 128\n",
      "        All batch size: 128\n",
      "    Default workers\n",
      "        Train worker count: 4\n",
      "        Val worker count: 3\n",
      "        Test worker count: 2\n",
      "        All worker count: 4\n",
      "        Init worker count: 4\n",
      "    Other\n",
      "        Nan threshold: 1.0\n",
      "        Random state: None\n",
      "        Train dataloader order DataloaderOrder.SEQUENTIAL\n",
      "                \n"
     ]
    }
   ],
   "source": [
    "config = SeriesBasedConfig(time_period=0.5, train_ts=54, val_ts=25, test_ts=10)\n",
    "series_based_dataset.set_dataset_config_and_initialize(config, display_config_details=True, workers=0)"
   ]
  }
 ],
 "metadata": {
  "kernelspec": {
   "display_name": ".venv",
   "language": "python",
   "name": "python3"
  },
  "language_info": {
   "codemirror_mode": {
    "name": "ipython",
    "version": 3
   },
   "file_extension": ".py",
   "mimetype": "text/x-python",
   "name": "python",
   "nbconvert_exporter": "python",
   "pygments_lexer": "ipython3",
   "version": "3.12.3"
  }
 },
 "nbformat": 4,
 "nbformat_minor": 2
}
